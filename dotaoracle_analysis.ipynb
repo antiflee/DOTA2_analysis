{
 "cells": [
  {
   "cell_type": "markdown",
   "metadata": {},
   "source": [
    "### First change the working directory to /scratch3/"
   ]
  },
  {
   "cell_type": "code",
   "execution_count": 93,
   "metadata": {
    "collapsed": true
   },
   "outputs": [],
   "source": [
    "import os\n",
    "import time"
   ]
  },
  {
   "cell_type": "code",
   "execution_count": 111,
   "metadata": {
    "collapsed": true
   },
   "outputs": [],
   "source": [
    "import pickle"
   ]
  },
  {
   "cell_type": "code",
   "execution_count": 2,
   "metadata": {
    "collapsed": true
   },
   "outputs": [],
   "source": [
    "os.chdir('/scratch3/yufeil/oracle2/')"
   ]
  },
  {
   "cell_type": "code",
   "execution_count": 3,
   "metadata": {},
   "outputs": [
    {
     "name": "stdout",
     "output_type": "stream",
     "text": [
      "/scratch3/yufeil/oracle2\n"
     ]
    }
   ],
   "source": [
    "print(os.getcwd())"
   ]
  },
  {
   "cell_type": "code",
   "execution_count": 4,
   "metadata": {},
   "outputs": [
    {
     "data": {
      "text/plain": [
       "['heroes.csv',\n",
       " 'hero_abilities.csv',\n",
       " 'items.csv',\n",
       " 'leagues.csv',\n",
       " 'matches.csv',\n",
       " 'sen_log.csv',\n",
       " 'match_player_pairs.csv',\n",
       " 'teams.csv',\n",
       " 'obs_log.csv',\n",
       " 'picks_bans.csv',\n",
       " 'players.csv',\n",
       " 'purchase_log.csv']"
      ]
     },
     "execution_count": 4,
     "metadata": {},
     "output_type": "execute_result"
    }
   ],
   "source": [
    "# All data files are stored in ./data/\n",
    "os.listdir('data')"
   ]
  },
  {
   "cell_type": "markdown",
   "metadata": {},
   "source": [
    "### Take a look at matches.csv"
   ]
  },
  {
   "cell_type": "code",
   "execution_count": 41,
   "metadata": {},
   "outputs": [],
   "source": [
    "import numpy as np\n",
    "import pandas as pd\n",
    "import matplotlib.pyplot as plt\n",
    "plt.style.use('ggplot')"
   ]
  },
  {
   "cell_type": "code",
   "execution_count": 179,
   "metadata": {},
   "outputs": [
    {
     "data": {
      "text/html": [
       "<div>\n",
       "<table border=\"1\" class=\"dataframe\">\n",
       "  <thead>\n",
       "    <tr style=\"text-align: right;\">\n",
       "      <th></th>\n",
       "      <th>match_id</th>\n",
       "      <th>match_seq_num</th>\n",
       "      <th>start_time</th>\n",
       "      <th>cluster_id</th>\n",
       "      <th>region_id</th>\n",
       "      <th>skill</th>\n",
       "      <th>radiant_win</th>\n",
       "      <th>radiant_heroes</th>\n",
       "      <th>dire_heroes</th>\n",
       "      <th>duration</th>\n",
       "      <th>...</th>\n",
       "      <th>barracks_status_dire</th>\n",
       "      <th>radiant_score</th>\n",
       "      <th>dire_score</th>\n",
       "      <th>is_parsed</th>\n",
       "      <th>times</th>\n",
       "      <th>radiant_gold_adv</th>\n",
       "      <th>radiant_xp_adv</th>\n",
       "      <th>league_id</th>\n",
       "      <th>radiant_team_id</th>\n",
       "      <th>dire_team_id</th>\n",
       "    </tr>\n",
       "  </thead>\n",
       "  <tbody>\n",
       "    <tr>\n",
       "      <th>0</th>\n",
       "      <td>3383593335</td>\n",
       "      <td>2950481899</td>\n",
       "      <td>2017-08-17 17:04:12</td>\n",
       "      <td>122</td>\n",
       "      <td>2</td>\n",
       "      <td>3.0</td>\n",
       "      <td>f</td>\n",
       "      <td>{50,104,51,14,70}</td>\n",
       "      <td>{8,7,9,22,86}</td>\n",
       "      <td>2511</td>\n",
       "      <td>...</td>\n",
       "      <td>63</td>\n",
       "      <td>19</td>\n",
       "      <td>39</td>\n",
       "      <td>f</td>\n",
       "      <td>NaN</td>\n",
       "      <td>NaN</td>\n",
       "      <td>NaN</td>\n",
       "      <td>0</td>\n",
       "      <td>NaN</td>\n",
       "      <td>NaN</td>\n",
       "    </tr>\n",
       "    <tr>\n",
       "      <th>1</th>\n",
       "      <td>3383580350</td>\n",
       "      <td>2950481900</td>\n",
       "      <td>2017-08-17 16:52:52</td>\n",
       "      <td>122</td>\n",
       "      <td>2</td>\n",
       "      <td>1.0</td>\n",
       "      <td>t</td>\n",
       "      <td>{25,99,86,14,44}</td>\n",
       "      <td>{49,104,28,35,55}</td>\n",
       "      <td>3178</td>\n",
       "      <td>...</td>\n",
       "      <td>0</td>\n",
       "      <td>52</td>\n",
       "      <td>38</td>\n",
       "      <td>f</td>\n",
       "      <td>NaN</td>\n",
       "      <td>NaN</td>\n",
       "      <td>NaN</td>\n",
       "      <td>0</td>\n",
       "      <td>NaN</td>\n",
       "      <td>NaN</td>\n",
       "    </tr>\n",
       "    <tr>\n",
       "      <th>2</th>\n",
       "      <td>3383579821</td>\n",
       "      <td>2950481903</td>\n",
       "      <td>2017-08-17 16:52:13</td>\n",
       "      <td>123</td>\n",
       "      <td>2</td>\n",
       "      <td>1.0</td>\n",
       "      <td>f</td>\n",
       "      <td>{104,106,8,25,54}</td>\n",
       "      <td>{12,13,71,49,18}</td>\n",
       "      <td>3050</td>\n",
       "      <td>...</td>\n",
       "      <td>63</td>\n",
       "      <td>36</td>\n",
       "      <td>55</td>\n",
       "      <td>f</td>\n",
       "      <td>NaN</td>\n",
       "      <td>NaN</td>\n",
       "      <td>NaN</td>\n",
       "      <td>0</td>\n",
       "      <td>NaN</td>\n",
       "      <td>NaN</td>\n",
       "    </tr>\n",
       "    <tr>\n",
       "      <th>3</th>\n",
       "      <td>3383568417</td>\n",
       "      <td>2950481904</td>\n",
       "      <td>2017-08-17 16:42:32</td>\n",
       "      <td>133</td>\n",
       "      <td>3</td>\n",
       "      <td>1.0</td>\n",
       "      <td>t</td>\n",
       "      <td>{83,41,102,88,89}</td>\n",
       "      <td>{62,74,58,21,20}</td>\n",
       "      <td>3803</td>\n",
       "      <td>...</td>\n",
       "      <td>0</td>\n",
       "      <td>40</td>\n",
       "      <td>42</td>\n",
       "      <td>t</td>\n",
       "      <td>{0,60,120,180,240,300,360,420,480,540,600,660,...</td>\n",
       "      <td>{0,73,175,277,372,561,378,40,-76,-572,-794,-10...</td>\n",
       "      <td>{0,58,-362,-309,187,91,620,213,243,-752,-516,-...</td>\n",
       "      <td>0</td>\n",
       "      <td>NaN</td>\n",
       "      <td>NaN</td>\n",
       "    </tr>\n",
       "    <tr>\n",
       "      <th>4</th>\n",
       "      <td>3383562936</td>\n",
       "      <td>2950481908</td>\n",
       "      <td>2017-08-17 16:37:28</td>\n",
       "      <td>251</td>\n",
       "      <td>15</td>\n",
       "      <td>NaN</td>\n",
       "      <td>t</td>\n",
       "      <td>{5,98,93,113,62}</td>\n",
       "      <td>{48,7,39,23,61}</td>\n",
       "      <td>4090</td>\n",
       "      <td>...</td>\n",
       "      <td>0</td>\n",
       "      <td>59</td>\n",
       "      <td>79</td>\n",
       "      <td>t</td>\n",
       "      <td>{0,60,120,180,240,300,360,420,480,540,600,660,...</td>\n",
       "      <td>{0,-34,-178,-322,86,-544,-580,-48,-70,190,-117...</td>\n",
       "      <td>{0,34,-204,-839,-322,-789,-1209,-660,-839,-806...</td>\n",
       "      <td>0</td>\n",
       "      <td>NaN</td>\n",
       "      <td>NaN</td>\n",
       "    </tr>\n",
       "  </tbody>\n",
       "</table>\n",
       "<p>5 rows × 26 columns</p>\n",
       "</div>"
      ],
      "text/plain": [
       "     match_id  match_seq_num           start_time  cluster_id  region_id  \\\n",
       "0  3383593335     2950481899  2017-08-17 17:04:12         122          2   \n",
       "1  3383580350     2950481900  2017-08-17 16:52:52         122          2   \n",
       "2  3383579821     2950481903  2017-08-17 16:52:13         123          2   \n",
       "3  3383568417     2950481904  2017-08-17 16:42:32         133          3   \n",
       "4  3383562936     2950481908  2017-08-17 16:37:28         251         15   \n",
       "\n",
       "   skill radiant_win     radiant_heroes        dire_heroes  duration  \\\n",
       "0    3.0           f  {50,104,51,14,70}      {8,7,9,22,86}      2511   \n",
       "1    1.0           t   {25,99,86,14,44}  {49,104,28,35,55}      3178   \n",
       "2    1.0           f  {104,106,8,25,54}   {12,13,71,49,18}      3050   \n",
       "3    1.0           t  {83,41,102,88,89}   {62,74,58,21,20}      3803   \n",
       "4    NaN           t   {5,98,93,113,62}    {48,7,39,23,61}      4090   \n",
       "\n",
       "      ...       barracks_status_dire  radiant_score  dire_score  is_parsed  \\\n",
       "0     ...                         63             19          39          f   \n",
       "1     ...                          0             52          38          f   \n",
       "2     ...                         63             36          55          f   \n",
       "3     ...                          0             40          42          t   \n",
       "4     ...                          0             59          79          t   \n",
       "\n",
       "                                               times  \\\n",
       "0                                                NaN   \n",
       "1                                                NaN   \n",
       "2                                                NaN   \n",
       "3  {0,60,120,180,240,300,360,420,480,540,600,660,...   \n",
       "4  {0,60,120,180,240,300,360,420,480,540,600,660,...   \n",
       "\n",
       "                                    radiant_gold_adv  \\\n",
       "0                                                NaN   \n",
       "1                                                NaN   \n",
       "2                                                NaN   \n",
       "3  {0,73,175,277,372,561,378,40,-76,-572,-794,-10...   \n",
       "4  {0,-34,-178,-322,86,-544,-580,-48,-70,190,-117...   \n",
       "\n",
       "                                      radiant_xp_adv  league_id  \\\n",
       "0                                                NaN          0   \n",
       "1                                                NaN          0   \n",
       "2                                                NaN          0   \n",
       "3  {0,58,-362,-309,187,91,620,213,243,-752,-516,-...          0   \n",
       "4  {0,34,-204,-839,-322,-789,-1209,-660,-839,-806...          0   \n",
       "\n",
       "   radiant_team_id dire_team_id  \n",
       "0              NaN          NaN  \n",
       "1              NaN          NaN  \n",
       "2              NaN          NaN  \n",
       "3              NaN          NaN  \n",
       "4              NaN          NaN  \n",
       "\n",
       "[5 rows x 26 columns]"
      ]
     },
     "execution_count": 179,
     "metadata": {},
     "output_type": "execute_result"
    }
   ],
   "source": [
    "matches = pd.read_csv('data/matches.csv')\n",
    "matches.head()"
   ]
  },
  {
   "cell_type": "code",
   "execution_count": 65,
   "metadata": {},
   "outputs": [
    {
     "name": "stdout",
     "output_type": "stream",
     "text": [
      "match_id                     int64\n",
      "match_seq_num                int64\n",
      "start_time                  object\n",
      "cluster_id                   int64\n",
      "region_id                    int64\n",
      "skill                      float64\n",
      "radiant_win                 object\n",
      "radiant_heroes              object\n",
      "dire_heroes                 object\n",
      "duration                     int64\n",
      "lobby_type                   int64\n",
      "game_mode                    int64\n",
      "first_blood_time             int64\n",
      "tower_status_radiant         int64\n",
      "tower_status_dire            int64\n",
      "barracks_status_radiant      int64\n",
      "barracks_status_dire         int64\n",
      "radiant_score                int64\n",
      "dire_score                   int64\n",
      "is_parsed                   object\n",
      "times                       object\n",
      "radiant_gold_adv            object\n",
      "radiant_xp_adv              object\n",
      "league_id                    int64\n",
      "radiant_team_id            float64\n",
      "dire_team_id               float64\n",
      "dtype: object\n"
     ]
    }
   ],
   "source": [
    "print(matches.dtypes)"
   ]
  },
  {
   "cell_type": "code",
   "execution_count": 19,
   "metadata": {},
   "outputs": [
    {
     "data": {
      "text/plain": [
       "332660"
      ]
     },
     "execution_count": 19,
     "metadata": {},
     "output_type": "execute_result"
    }
   ],
   "source": [
    "matches.iloc[:,0].count()"
   ]
  },
  {
   "cell_type": "markdown",
   "metadata": {},
   "source": [
    "## <span style=\"color:coral;\">Take a quick look at some basic info</span>"
   ]
  },
  {
   "cell_type": "code",
   "execution_count": 28,
   "metadata": {},
   "outputs": [
    {
     "name": "stdout",
     "output_type": "stream",
     "text": [
      "       matches\n",
      "skill         \n",
      "1.0     228904\n",
      "2.0      29835\n",
      "3.0      33027\n"
     ]
    }
   ],
   "source": [
    "# Distribution of skills\n",
    "skills_dist = matches.loc[:,'skill'].groupby(matches['skill']).agg({'matches':'count'})\n",
    "print(skills_dist)"
   ]
  },
  {
   "cell_type": "code",
   "execution_count": 43,
   "metadata": {},
   "outputs": [
    {
     "data": {
      "image/png": "[encoded data removed]",
      "text/plain": [
       "<matplotlib.figure.Figure at 0x2ac452072e48>"
      ]
     },
     "metadata": {},
     "output_type": "display_data"
    }
   ],
   "source": [
    "plt.pie(skills_dist['matches'], labels=['normal','high','very high'], autopct='%1.1f%%')\n",
    "plt.title('Distribution of Skills')\n",
    "plt.show()"
   ]
  },
  {
   "cell_type": "code",
   "execution_count": 39,
   "metadata": {},
   "outputs": [
    {
     "data": {
      "image/png": "[encoded data removed]",
      "text/plain": [
       "<matplotlib.figure.Figure at 0x2ac450e99710>"
      ]
     },
     "metadata": {},
     "output_type": "display_data"
    }
   ],
   "source": [
    "# Most of the matches are normal skilled.\n",
    "# What about the match duration?\n",
    "plt.hist(matches['duration']/60, bins=50, facecolor='g', alpha=0.8)\n",
    "plt.xlabel('Duration (min)')\n",
    "plt.ylabel('Matches')\n",
    "plt.title('Distribution of Game Duration')\n",
    "plt.show()"
   ]
  },
  {
   "cell_type": "code",
   "execution_count": 60,
   "metadata": {},
   "outputs": [
    {
     "data": {
      "image/png": "[encoded data removed]",
      "text/plain": [
       "<matplotlib.figure.Figure at 0x2ac450e99080>"
      ]
     },
     "metadata": {},
     "output_type": "display_data"
    }
   ],
   "source": [
    "# The duration distributino looks like a skew normal distribution. \n",
    "# Is game duration also dependent on skills?\n",
    "colors = ['r','orange','g']\n",
    "fig, axs = plt.subplots(3,1)\n",
    "fig.subplots_adjust(hspace=1)\n",
    "for skill in range(1,4):\n",
    "    ax = axs[skill-1]\n",
    "    ax.hist(matches[matches['skill']==skill]['duration']/60, bins=50, facecolor=colors[skill-1], alpha=0.8)\n",
    "    ax.set_title('Distribution of Game Duration for Skill {}'.format(skill))\n",
    "plt.show()"
   ]
  },
  {
   "cell_type": "code",
   "execution_count": null,
   "metadata": {
    "collapsed": true
   },
   "outputs": [],
   "source": [
    "# It seems like high skill matches has the shortest duration."
   ]
  },
  {
   "cell_type": "markdown",
   "metadata": {},
   "source": [
    "## <span style=\"color:coral;\">Analyze winning rate based on hero picked.</span>"
   ]
  },
  {
   "cell_type": "code",
   "execution_count": 63,
   "metadata": {},
   "outputs": [
    {
     "name": "stdout",
     "output_type": "stream",
     "text": [
      "      radiant_heroes        dire_heroes radiant_win\n",
      "0  {50,104,51,14,70}      {8,7,9,22,86}           f\n",
      "1   {25,99,86,14,44}  {49,104,28,35,55}           t\n",
      "2  {104,106,8,25,54}   {12,13,71,49,18}           f\n",
      "3  {83,41,102,88,89}   {62,74,58,21,20}           t\n",
      "4   {5,98,93,113,62}    {48,7,39,23,61}           t\n",
      "(332660, 3)\n"
     ]
    }
   ],
   "source": [
    "# First we need to transform the matches data.\n",
    "heroes_picked = matches[['radiant_heroes','dire_heroes','radiant_win']]\n",
    "print(heroes_picked.head())\n",
    "print(heroes_picked.shape)"
   ]
  },
  {
   "cell_type": "code",
   "execution_count": 69,
   "metadata": {
    "collapsed": true
   },
   "outputs": [
    {
     "name": "stdout",
     "output_type": "stream",
     "text": [
      "   hero_id_1  hero_id_10  hero_id_100  hero_id_101  hero_id_102  hero_id_103  \\\n",
      "0          0           0            0            0            0            0   \n",
      "1          0           0            0            0            0            0   \n",
      "2          0           0            0            0            0            0   \n",
      "3          0           0            0            0            1            0   \n",
      "4          0           0            0            0            0            0   \n",
      "\n",
      "   hero_id_104  hero_id_105  hero_id_106  hero_id_107     ...      hero_id_90  \\\n",
      "0            1            0            0            0     ...               0   \n",
      "1            0            0            0            0     ...               0   \n",
      "2            1            0            1            0     ...               0   \n",
      "3            0            0            0            0     ...               0   \n",
      "4            0            0            0            0     ...               0   \n",
      "\n",
      "   hero_id_91  hero_id_92  hero_id_93  hero_id_94  hero_id_95  hero_id_96  \\\n",
      "0           0           0           0           0           0           0   \n",
      "1           0           0           0           0           0           0   \n",
      "2           0           0           0           0           0           0   \n",
      "3           0           0           0           0           0           0   \n",
      "4           0           0           1           0           0           0   \n",
      "\n",
      "   hero_id_97  hero_id_98  hero_id_99  \n",
      "0           0           0           0  \n",
      "1           0           0           1  \n",
      "2           0           0           0  \n",
      "3           0           0           0  \n",
      "4           0           1           0  \n",
      "\n",
      "[5 rows x 228 columns]\n"
     ]
    }
   ],
   "source": [
    "# The radiant_heroes and dire_heroes are list of selected heroes denoted by the corresponding hero ids.\n",
    "# In order to build the feature space, we have several options:\n",
    "# 1. xi = 1 if the i-th hero is on radiant, -1 if on the dire side, or 0 if not selected.\n",
    "# 2. Double the feature size, for i from 1 to 114 (114 is the max hero id), xi = 0 or 1 denoting selected by radiant / not selected.\n",
    "#    for i from 115 to 228, it denotes the dire heroes.\n",
    "# I have tried the first way but the accuracy is not very high. So here we adopt the second method.\n",
    "\n",
    "def extract_heroes(row):\n",
    "    hero_series = {'hero_id_'+str(i):0 for i in range(1, 229)}\n",
    "    \n",
    "    heroes1,heroes2 = row['radiant_heroes'].lstrip('{').rstrip('}').split(','), row['dire_heroes'].lstrip('{').rstrip('}').split(',')\n",
    "    \n",
    "    for h in heroes1:\n",
    "        hero_series['hero_id_'+str(h)] = 1\n",
    "    for h in heroes2:\n",
    "        hero_series['hero_id_'+str(int(h)+114)] = 1\n",
    "    \n",
    "    return pd.Series(hero_series)\n",
    "\n",
    "columns = ['hero_id_'+str(i) for i in range(1, 229)] + ['radiant_win']\n",
    "df = heroes_picked.apply(extract_heroes, axis=1)\n",
    "print(df.head())"
   ]
  },
  {
   "cell_type": "code",
   "execution_count": 163,
   "metadata": {},
   "outputs": [
    {
     "data": {
      "text/plain": [
       "(332660, 229)"
      ]
     },
     "execution_count": 163,
     "metadata": {},
     "output_type": "execute_result"
    }
   ],
   "source": [
    "df['radiant_win'] = heroes_picked['radiant_win'].apply(lambda x: x == 't')\n",
    "df.shape"
   ]
  },
  {
   "cell_type": "code",
   "execution_count": 178,
   "metadata": {},
   "outputs": [
    {
     "data": {
      "text/html": [
       "<div>\n",
       "<table border=\"1\" class=\"dataframe\">\n",
       "  <thead>\n",
       "    <tr style=\"text-align: right;\">\n",
       "      <th></th>\n",
       "      <th>hero_id_1</th>\n",
       "      <th>hero_id_10</th>\n",
       "      <th>hero_id_100</th>\n",
       "      <th>hero_id_101</th>\n",
       "      <th>hero_id_102</th>\n",
       "      <th>hero_id_103</th>\n",
       "      <th>hero_id_104</th>\n",
       "      <th>hero_id_105</th>\n",
       "      <th>hero_id_106</th>\n",
       "      <th>hero_id_107</th>\n",
       "      <th>...</th>\n",
       "      <th>hero_id_91</th>\n",
       "      <th>hero_id_92</th>\n",
       "      <th>hero_id_93</th>\n",
       "      <th>hero_id_94</th>\n",
       "      <th>hero_id_95</th>\n",
       "      <th>hero_id_96</th>\n",
       "      <th>hero_id_97</th>\n",
       "      <th>hero_id_98</th>\n",
       "      <th>hero_id_99</th>\n",
       "      <th>radiant_win</th>\n",
       "    </tr>\n",
       "  </thead>\n",
       "  <tbody>\n",
       "    <tr>\n",
       "      <th>0</th>\n",
       "      <td>0</td>\n",
       "      <td>0</td>\n",
       "      <td>0</td>\n",
       "      <td>0</td>\n",
       "      <td>0</td>\n",
       "      <td>0</td>\n",
       "      <td>1</td>\n",
       "      <td>0</td>\n",
       "      <td>0</td>\n",
       "      <td>0</td>\n",
       "      <td>...</td>\n",
       "      <td>0</td>\n",
       "      <td>0</td>\n",
       "      <td>0</td>\n",
       "      <td>0</td>\n",
       "      <td>0</td>\n",
       "      <td>0</td>\n",
       "      <td>0</td>\n",
       "      <td>0</td>\n",
       "      <td>0</td>\n",
       "      <td>False</td>\n",
       "    </tr>\n",
       "    <tr>\n",
       "      <th>1</th>\n",
       "      <td>0</td>\n",
       "      <td>0</td>\n",
       "      <td>0</td>\n",
       "      <td>0</td>\n",
       "      <td>0</td>\n",
       "      <td>0</td>\n",
       "      <td>0</td>\n",
       "      <td>0</td>\n",
       "      <td>0</td>\n",
       "      <td>0</td>\n",
       "      <td>...</td>\n",
       "      <td>0</td>\n",
       "      <td>0</td>\n",
       "      <td>0</td>\n",
       "      <td>0</td>\n",
       "      <td>0</td>\n",
       "      <td>0</td>\n",
       "      <td>0</td>\n",
       "      <td>0</td>\n",
       "      <td>1</td>\n",
       "      <td>True</td>\n",
       "    </tr>\n",
       "  </tbody>\n",
       "</table>\n",
       "<p>2 rows × 229 columns</p>\n",
       "</div>"
      ],
      "text/plain": [
       "   hero_id_1  hero_id_10  hero_id_100  hero_id_101  hero_id_102  hero_id_103  \\\n",
       "0          0           0            0            0            0            0   \n",
       "1          0           0            0            0            0            0   \n",
       "\n",
       "   hero_id_104  hero_id_105  hero_id_106  hero_id_107     ...       \\\n",
       "0            1            0            0            0     ...        \n",
       "1            0            0            0            0     ...        \n",
       "\n",
       "   hero_id_91  hero_id_92  hero_id_93  hero_id_94  hero_id_95  hero_id_96  \\\n",
       "0           0           0           0           0           0           0   \n",
       "1           0           0           0           0           0           0   \n",
       "\n",
       "   hero_id_97  hero_id_98  hero_id_99  radiant_win  \n",
       "0           0           0           0        False  \n",
       "1           0           0           1         True  \n",
       "\n",
       "[2 rows x 229 columns]"
      ]
     },
     "execution_count": 178,
     "metadata": {},
     "output_type": "execute_result"
    }
   ],
   "source": [
    "df.head(2)"
   ]
  },
  {
   "cell_type": "code",
   "execution_count": 165,
   "metadata": {},
   "outputs": [],
   "source": [
    "# Prepare the data for classification.\n",
    "X = df.iloc[:,:-1]\n",
    "y = df['radiant_win']\n",
    "\n",
    "from sklearn.cross_validation import train_test_split\n",
    "X_train, X_test, y_train, y_test = train_test_split(X, y, test_size=0.25)"
   ]
  },
  {
   "cell_type": "markdown",
   "metadata": {},
   "source": [
    "### First let's simply run different classification models without tuning hyper-parameters."
   ]
  },
  {
   "cell_type": "markdown",
   "metadata": {},
   "source": [
    "#### 1. Logistic Regression"
   ]
  },
  {
   "cell_type": "code",
   "execution_count": 166,
   "metadata": {},
   "outputs": [
    {
     "name": "stdout",
     "output_type": "stream",
     "text": [
      "Time consumed:  0:00:01\n",
      "0.590524860218\n"
     ]
    }
   ],
   "source": [
    "from sklearn.linear_model import LogisticRegression\n",
    "lr_c = LogisticRegression()\n",
    "\n",
    "start_time = time.strftime(\"%Y-%m-%d %H:%M:%S\", time.localtime())\n",
    "\n",
    "with open('lr_log.txt', 'a') as f:\n",
    "    f.write(\"\\nStart fitting... Time: {}\".format(time.strftime(\"%Y-%m-%d %H:%M:%S\", time.localtime())))\n",
    "\n",
    "lr_c.fit(X_train, y_train)\n",
    "    \n",
    "with open('lr_log.txt', 'a') as f:\n",
    "    f.write(\"\\nFinished fitting... Time: {}\".format(time.strftime(\"%Y-%m-%d %H:%M:%S\", time.localtime())))\n",
    "\n",
    "# Predicting the Test set results\n",
    "y_pred = lr_c.predict(X_test)\n",
    "y_score = lr_c.score(X_test, y_test)\n",
    "\n",
    "with open('lr_log.txt', 'a') as f:\n",
    "    f.write(\"\\nAccuracy: {}. \\nSaving model...\".format(y_score))\n",
    "\n",
    "from datetime import datetime\n",
    "end_time = time.strftime(\"%Y-%m-%d %H:%M:%S\", time.localtime())\n",
    "time_format = \"%Y-%m-%d %H:%M:%S\"\n",
    "timeconsumed_lr = datetime.strptime(end_time, time_format) - datetime.strptime(start_time, time_format)\n",
    "print(\"Time consumed: \", timeconsumed_lr)\n",
    "print(y_score)"
   ]
  },
  {
   "cell_type": "code",
   "execution_count": 167,
   "metadata": {},
   "outputs": [],
   "source": [
    "# Save the model\n",
    "with open('lr_model.pkl', 'wb') as f:\n",
    "    pickle.dump(lr_c, f)"
   ]
  },
  {
   "cell_type": "markdown",
   "metadata": {},
   "source": [
    "#### 2. Naive Bayes"
   ]
  },
  {
   "cell_type": "code",
   "execution_count": 168,
   "metadata": {},
   "outputs": [
    {
     "name": "stdout",
     "output_type": "stream",
     "text": [
      "Time consumed:  0:00:01\n",
      "0.574472434317\n"
     ]
    }
   ],
   "source": [
    "from sklearn.naive_bayes import GaussianNB\n",
    "gaussian_nb = GaussianNB()\n",
    "\n",
    "start_time = time.strftime(\"%Y-%m-%d %H:%M:%S\", time.localtime())\n",
    "\n",
    "with open('lr_log.txt', 'a') as f:\n",
    "    f.write(\"\\nStart fitting... Time: {}\".format(time.strftime(\"%Y-%m-%d %H:%M:%S\", time.localtime())))\n",
    "\n",
    "gaussian_nb.fit(X_train, y_train)\n",
    "    \n",
    "with open('lr_log.txt', 'a') as f:\n",
    "    f.write(\"\\nFinished fitting... Time: {}\".format(time.strftime(\"%Y-%m-%d %H:%M:%S\", time.localtime())))\n",
    "\n",
    "# Predicting the Test set results\n",
    "y_pred = gaussian_nb.predict(X_test)\n",
    "y_score = gaussian_nb.score(X_test, y_test)\n",
    "\n",
    "with open('lr_log.txt', 'a') as f:\n",
    "    f.write(\"\\nAccuracy: {}. \\nSaving model...\".format(y_score))\n",
    "\n",
    "from datetime import datetime\n",
    "end_time = time.strftime(\"%Y-%m-%d %H:%M:%S\", time.localtime())\n",
    "time_format = \"%Y-%m-%d %H:%M:%S\"\n",
    "timeconsumed = datetime.strptime(end_time, time_format) - datetime.strptime(start_time, time_format)\n",
    "print(\"Time consumed: \", timeconsumed)\n",
    "print(y_score)"
   ]
  },
  {
   "cell_type": "code",
   "execution_count": 169,
   "metadata": {
    "collapsed": true
   },
   "outputs": [],
   "source": [
    "# Save the model\n",
    "with open('nb_gaussian_model.pkl', 'wb') as f:\n",
    "    pickle.dump(gaussian_nb, f)"
   ]
  },
  {
   "cell_type": "markdown",
   "metadata": {},
   "source": [
    "#### 3. Adaboost"
   ]
  },
  {
   "cell_type": "code",
   "execution_count": 170,
   "metadata": {},
   "outputs": [
    {
     "name": "stdout",
     "output_type": "stream",
     "text": [
      "Time consumed:  0:00:43\n",
      "0.574159802802\n"
     ]
    }
   ],
   "source": [
    "from sklearn.ensemble import AdaBoostClassifier\n",
    "ada = AdaBoostClassifier()\n",
    "\n",
    "start_time = time.strftime(\"%Y-%m-%d %H:%M:%S\", time.localtime())\n",
    "\n",
    "with open('lr_log.txt', 'a') as f:\n",
    "    f.write(\"\\nStart fitting... Time: {}\".format(time.strftime(\"%Y-%m-%d %H:%M:%S\", time.localtime())))\n",
    "\n",
    "ada.fit(X_train, y_train)\n",
    "    \n",
    "with open('lr_log.txt', 'a') as f:\n",
    "    f.write(\"\\nFinished fitting... Time: {}\".format(time.strftime(\"%Y-%m-%d %H:%M:%S\", time.localtime())))\n",
    "\n",
    "# Predicting the Test set results\n",
    "y_pred = ada.predict(X_test)\n",
    "y_score = ada.score(X_test, y_test)\n",
    "\n",
    "with open('lr_log.txt', 'a') as f:\n",
    "    f.write(\"\\nAccuracy: {}. \\nSaving model...\".format(y_score))\n",
    "\n",
    "from datetime import datetime\n",
    "end_time = time.strftime(\"%Y-%m-%d %H:%M:%S\", time.localtime())\n",
    "time_format = \"%Y-%m-%d %H:%M:%S\"\n",
    "timeconsumed = datetime.strptime(end_time, time_format) - datetime.strptime(start_time, time_format)\n",
    "print(\"Time consumed: \", timeconsumed)\n",
    "print(y_score)"
   ]
  },
  {
   "cell_type": "code",
   "execution_count": 171,
   "metadata": {
    "collapsed": true
   },
   "outputs": [],
   "source": [
    "# Save the model\n",
    "with open('ada_model.pkl', 'wb') as f:\n",
    "    pickle.dump(ada, f)"
   ]
  },
  {
   "cell_type": "markdown",
   "metadata": {},
   "source": [
    "#### 4. Random Forest"
   ]
  },
  {
   "cell_type": "code",
   "execution_count": 172,
   "metadata": {},
   "outputs": [
    {
     "name": "stdout",
     "output_type": "stream",
     "text": [
      "Time consumed:  0:00:59\n",
      "0.566175674863\n"
     ]
    }
   ],
   "source": [
    "from sklearn.ensemble import RandomForestClassifier\n",
    "rf = RandomForestClassifier(n_estimators = 50)\n",
    "\n",
    "start_time = time.strftime(\"%Y-%m-%d %H:%M:%S\", time.localtime())\n",
    "\n",
    "with open('lr_log.txt', 'a') as f:\n",
    "    f.write(\"\\nStart fitting... Time: {}\".format(time.strftime(\"%Y-%m-%d %H:%M:%S\", time.localtime())))\n",
    "\n",
    "rf.fit(X_train, y_train)\n",
    "    \n",
    "with open('lr_log.txt', 'a') as f:\n",
    "    f.write(\"\\nFinished fitting... Time: {}\".format(time.strftime(\"%Y-%m-%d %H:%M:%S\", time.localtime())))\n",
    "\n",
    "# Predicting the Test set results\n",
    "y_pred = rf.predict(X_test)\n",
    "y_score = rf.score(X_test, y_test)\n",
    "\n",
    "with open('lr_log.txt', 'a') as f:\n",
    "    f.write(\"\\nAccuracy: {}. \\nSaving model...\".format(y_score))\n",
    "\n",
    "from datetime import datetime\n",
    "end_time = time.strftime(\"%Y-%m-%d %H:%M:%S\", time.localtime())\n",
    "time_format = \"%Y-%m-%d %H:%M:%S\"\n",
    "timeconsumed = datetime.strptime(end_time, time_format) - datetime.strptime(start_time, time_format)\n",
    "print(\"Time consumed: \", timeconsumed)\n",
    "print(y_score)"
   ]
  },
  {
   "cell_type": "code",
   "execution_count": 115,
   "metadata": {
    "collapsed": true
   },
   "outputs": [],
   "source": [
    "# Save the model\n",
    "with open('rf_model.pkl', 'wb') as f:\n",
    "    pickle.dump(rf, f)"
   ]
  },
  {
   "cell_type": "markdown",
   "metadata": {},
   "source": [
    "#### 5. SVM"
   ]
  },
  {
   "cell_type": "code",
   "execution_count": 107,
   "metadata": {},
   "outputs": [
    {
     "name": "stdout",
     "output_type": "stream",
     "text": [
      "Time consumed:  7:56:58\n",
      "0.592112066374\n"
     ]
    }
   ],
   "source": [
    "from sklearn.svm import SVC\n",
    "svc = SVC(kernel = 'rbf')\n",
    "\n",
    "start_time = time.strftime(\"%Y-%m-%d %H:%M:%S\", time.localtime())\n",
    "\n",
    "with open('lr_log.txt', 'a') as f:\n",
    "    f.write(\"\\nStart fitting... Time: {}\".format(time.strftime(\"%Y-%m-%d %H:%M:%S\", time.localtime())))\n",
    "\n",
    "svc.fit(X_train, y_train)\n",
    "    \n",
    "with open('lr_log.txt', 'a') as f:\n",
    "    f.write(\"\\nFinished fitting... Time: {}\".format(time.strftime(\"%Y-%m-%d %H:%M:%S\", time.localtime())))\n",
    "\n",
    "# Predicting the Test set results\n",
    "y_pred = svc.predict(X_test)\n",
    "y_score = svc.score(X_test, y_test)\n",
    "\n",
    "with open('lr_log.txt', 'a') as f:\n",
    "    f.write(\"\\nAccuracy: {}. \\nSaving model...\".format(y_score))\n",
    "\n",
    "from datetime import datetime\n",
    "end_time = time.strftime(\"%Y-%m-%d %H:%M:%S\", time.localtime())\n",
    "time_format = \"%Y-%m-%d %H:%M:%S\"\n",
    "timeconsumed = datetime.strptime(end_time, time_format) - datetime.strptime(start_time, time_format)\n",
    "print(\"Time consumed: \", timeconsumed)\n",
    "print(y_score)"
   ]
  },
  {
   "cell_type": "code",
   "execution_count": 116,
   "metadata": {
    "collapsed": true
   },
   "outputs": [],
   "source": [
    "# Save the model\n",
    "with open('svc_model.pkl', 'wb') as f:\n",
    "    pickle.dump(svc, f)"
   ]
  },
  {
   "cell_type": "markdown",
   "metadata": {},
   "source": [
    "#### 5. KNN"
   ]
  },
  {
   "cell_type": "markdown",
   "metadata": {},
   "source": [
    "#### KNN was run separately on Palmetto to save time."
   ]
  },
  {
   "cell_type": "markdown",
   "metadata": {},
   "source": [
    "### We can perform grid search to tune the hyper-parameters. Considering the computing time and accuracy, here we only select logistic regression to refine."
   ]
  },
  {
   "cell_type": "code",
   "execution_count": 155,
   "metadata": {},
   "outputs": [],
   "source": [
    "from sklearn.grid_search import GridSearchCV\n",
    "classifier = LogisticRegression()\n",
    "param_grid = {\n",
    "            'C':[0.001, 0.01, 0.1, 1, 10, 100, 1000],\n",
    "            'penalty':['l1','l2']\n",
    "            }\n",
    "grid = GridSearchCV(classifier, param_grid, cv=10, scoring='accuracy')"
   ]
  },
  {
   "cell_type": "code",
   "execution_count": 156,
   "metadata": {},
   "outputs": [
    {
     "data": {
      "text/plain": [
       "GridSearchCV(cv=10, error_score='raise',\n",
       "       estimator=LogisticRegression(C=1.0, class_weight=None, dual=False, fit_intercept=True,\n",
       "          intercept_scaling=1, max_iter=100, multi_class='ovr', n_jobs=1,\n",
       "          penalty='l2', random_state=None, solver='liblinear', tol=0.0001,\n",
       "          verbose=0, warm_start=False),\n",
       "       fit_params={}, iid=True, n_jobs=1,\n",
       "       param_grid={'penalty': ['l1', 'l2'], 'C': [0.001, 0.01, 0.1, 1, 10, 100, 1000]},\n",
       "       pre_dispatch='2*n_jobs', refit=True, scoring='accuracy', verbose=0)"
      ]
     },
     "execution_count": 156,
     "metadata": {},
     "output_type": "execute_result"
    }
   ],
   "source": [
    "grid.fit(X, y)"
   ]
  },
  {
   "cell_type": "code",
   "execution_count": 157,
   "metadata": {},
   "outputs": [
    {
     "name": "stdout",
     "output_type": "stream",
     "text": [
      "0.591426681897\n",
      "{'penalty': 'l1', 'C': 1}\n",
      "LogisticRegression(C=1, class_weight=None, dual=False, fit_intercept=True,\n",
      "          intercept_scaling=1, max_iter=100, multi_class='ovr', n_jobs=1,\n",
      "          penalty='l1', random_state=None, solver='liblinear', tol=0.0001,\n",
      "          verbose=0, warm_start=False)\n"
     ]
    }
   ],
   "source": [
    "# Let's check the best parameters\n",
    "print(grid.best_score_)\n",
    "print(grid.best_params_)\n",
    "print(grid.best_estimator_)"
   ]
  },
  {
   "cell_type": "markdown",
   "metadata": {},
   "source": [
    "### Seems like the highest accuracy we can get currently is less than 60%. In order to improve it, we can study the chemistry between heroes and how one hero can counter another opponent hero."
   ]
  },
  {
   "cell_type": "markdown",
   "metadata": {},
   "source": [
    "## <span style=\"color:olive;\">Hero pairs and counters</span>.\n",
    "###  Sometimes two heroes can have a much better performance when on the same side, just like team chemistry. So let's build a chemistry chart for all hero, based on the winning rate.\n",
    "### Similarly, we can build a counter table to represent how one hero counters another when on different sides."
   ]
  },
  {
   "cell_type": "code",
   "execution_count": 231,
   "metadata": {},
   "outputs": [],
   "source": [
    "hero_pair_table = [[[0,0] for i in range(115)] for j in range(115)]  # Hero we don't use the first row/column.\n",
    "hero_counter_table = [[[0,0] for i in range(115)] for j in range(115)]"
   ]
  },
  {
   "cell_type": "code",
   "execution_count": 232,
   "metadata": {},
   "outputs": [
    {
     "data": {
      "text/html": [
       "<div>\n",
       "<table border=\"1\" class=\"dataframe\">\n",
       "  <thead>\n",
       "    <tr style=\"text-align: right;\">\n",
       "      <th></th>\n",
       "      <th>radiant_heroes</th>\n",
       "      <th>dire_heroes</th>\n",
       "      <th>radiant_win</th>\n",
       "    </tr>\n",
       "  </thead>\n",
       "  <tbody>\n",
       "    <tr>\n",
       "      <th>0</th>\n",
       "      <td>{50,104,51,14,70}</td>\n",
       "      <td>{8,7,9,22,86}</td>\n",
       "      <td>False</td>\n",
       "    </tr>\n",
       "    <tr>\n",
       "      <th>1</th>\n",
       "      <td>{25,99,86,14,44}</td>\n",
       "      <td>{49,104,28,35,55}</td>\n",
       "      <td>False</td>\n",
       "    </tr>\n",
       "    <tr>\n",
       "      <th>2</th>\n",
       "      <td>{104,106,8,25,54}</td>\n",
       "      <td>{12,13,71,49,18}</td>\n",
       "      <td>False</td>\n",
       "    </tr>\n",
       "  </tbody>\n",
       "</table>\n",
       "</div>"
      ],
      "text/plain": [
       "      radiant_heroes        dire_heroes radiant_win\n",
       "0  {50,104,51,14,70}      {8,7,9,22,86}       False\n",
       "1   {25,99,86,14,44}  {49,104,28,35,55}       False\n",
       "2  {104,106,8,25,54}   {12,13,71,49,18}       False"
      ]
     },
     "execution_count": 232,
     "metadata": {},
     "output_type": "execute_result"
    }
   ],
   "source": [
    "heroes_picked['radiant_win'] = heroes_picked['radiant_win'].apply(lambda x: x=='t')\n",
    "heroes_picked.head(3)"
   ]
  },
  {
   "cell_type": "code",
   "execution_count": 233,
   "metadata": {
    "collapsed": true
   },
   "outputs": [
    {
     "data": {
      "text/plain": [
       "0         None\n",
       "1         None\n",
       "2         None\n",
       "3         None\n",
       "4         None\n",
       "5         None\n",
       "6         None\n",
       "7         None\n",
       "8         None\n",
       "9         None\n",
       "10        None\n",
       "11        None\n",
       "12        None\n",
       "13        None\n",
       "14        None\n",
       "15        None\n",
       "16        None\n",
       "17        None\n",
       "18        None\n",
       "19        None\n",
       "20        None\n",
       "21        None\n",
       "22        None\n",
       "23        None\n",
       "24        None\n",
       "25        None\n",
       "26        None\n",
       "27        None\n",
       "28        None\n",
       "29        None\n",
       "          ... \n",
       "332630    None\n",
       "332631    None\n",
       "332632    None\n",
       "332633    None\n",
       "332634    None\n",
       "332635    None\n",
       "332636    None\n",
       "332637    None\n",
       "332638    None\n",
       "332639    None\n",
       "332640    None\n",
       "332641    None\n",
       "332642    None\n",
       "332643    None\n",
       "332644    None\n",
       "332645    None\n",
       "332646    None\n",
       "332647    None\n",
       "332648    None\n",
       "332649    None\n",
       "332650    None\n",
       "332651    None\n",
       "332652    None\n",
       "332653    None\n",
       "332654    None\n",
       "332655    None\n",
       "332656    None\n",
       "332657    None\n",
       "332658    None\n",
       "332659    None\n",
       "dtype: object"
      ]
     },
     "execution_count": 233,
     "metadata": {},
     "output_type": "execute_result"
    }
   ],
   "source": [
    "from itertools import combinations\n",
    "def get_hero_pair_counter_info(row):\n",
    "    heroes1 = row['radiant_heroes'].lstrip('{').rstrip('}').split(',')\n",
    "    heroes2 = row['dire_heroes'].lstrip('{').rstrip('}').split(',')\n",
    "    rwin = row['radiant_win']\n",
    "    \n",
    "    heroes1 = list(map(int, heroes1))\n",
    "    heroes2 = list(map(int, heroes2))\n",
    "    \n",
    "    # hero pairs\n",
    "    for i, j in combinations(heroes1,2):\n",
    "        hero_pair_table[i][j][0] += int(rwin)\n",
    "        hero_pair_table[i][j][1] += 1\n",
    "        \n",
    "        hero_pair_table[j][i][0] += int(rwin)\n",
    "        hero_pair_table[j][i][1] += 1\n",
    "    for i, j in combinations(heroes2,2):\n",
    "        hero_pair_table[i][j][0] += (rwin==False)\n",
    "        hero_pair_table[i][j][1] += 1\n",
    "        \n",
    "        hero_pair_table[j][i][0] += (rwin==False)\n",
    "        hero_pair_table[j][i][1] += 1\n",
    "    \n",
    "    # hero counters\n",
    "    for i in heroes1:\n",
    "        for j in heroes2:\n",
    "            hero_counter_table[i][j][0] += int(rwin)\n",
    "            hero_counter_table[i][j][1] += 1\n",
    "            \n",
    "            hero_counter_table[j][i][0] += (rwin==False)\n",
    "            hero_counter_table[i][j][1] += 1\n",
    "    \n",
    "heroes_picked.apply(get_hero_pair_counter_info, axis=1)"
   ]
  },
  {
   "cell_type": "code",
   "execution_count": 234,
   "metadata": {},
   "outputs": [
    {
     "data": {
      "image/png": "[encoded data removed]",
      "text/plain": [
       "<matplotlib.figure.Figure at 0x2ac45256f780>"
      ]
     },
     "metadata": {},
     "output_type": "display_data"
    }
   ],
   "source": [
    "hero_pair_winrate = [[hero_pair_table[i][j][0]/hero_pair_table[i][j][1] if hero_pair_table[i][j][1]>0 else 0.5 for i in range(115)] for j in range(115)] \n",
    "hero_pair_winrate = np.array(hero_pair_winrate)\n",
    "plt.pcolor(hero_pair_winrate,cmap=plt.cm.coolwarm)\n",
    "plt.xlabel('Hero ID')\n",
    "plt.ylabel('Hero ID')\n",
    "plt.title('Hero Chemistry')\n",
    "plt.show()"
   ]
  },
  {
   "cell_type": "markdown",
   "metadata": {},
   "source": [
    "#### Do the same to hero counter"
   ]
  },
  {
   "cell_type": "code",
   "execution_count": 237,
   "metadata": {},
   "outputs": [
    {
     "data": {
      "image/png": "[encoded data removed]",
      "text/plain": [
       "<matplotlib.figure.Figure at 0x2ac4539b9198>"
      ]
     },
     "metadata": {},
     "output_type": "display_data"
    }
   ],
   "source": [
    "hero_counter_winrate = [[hero_counter_table[i][j][0]/hero_counter_table[i][j][1] if hero_counter_table[i][j][1]>0 else 0.5 for i in range(115)] for j in range(115)] \n",
    "hero_counter_winrate = np.array(hero_counter_winrate)\n",
    "plt.pcolor(hero_counter_winrate,cmap=plt.cm.coolwarm)\n",
    "plt.xlabel('Hero ID')\n",
    "plt.ylabel('Hero ID')\n",
    "plt.title('Hero Counter')\n",
    "plt.show()"
   ]
  },
  {
   "cell_type": "markdown",
   "metadata": {},
   "source": [
    "#### The graph is not that intuitive. Let's print out the top hero pairs and counters."
   ]
  },
  {
   "cell_type": "code",
   "execution_count": 245,
   "metadata": {
    "collapsed": true
   },
   "outputs": [],
   "source": [
    "# Convert hero id to hero names:\n",
    "import json\n",
    "with open('misc_data/heroes.json') as heroes_json:\n",
    "    raw_data = json.load(heroes_json)\n",
    "    heroes = raw_data['heroes']\n",
    "    \n",
    "hero_id_to_name = {}\n",
    "for hero in heroes:\n",
    "    _id = hero['id']\n",
    "    hero_id_to_name[_id] = hero['localized_name']\n",
    "\n",
    "# In DOTA, there is no hero corresponding to id=24\n",
    "hero_id_to_name[24] = 'Unkown'\n",
    "# Hero_114 corresponds to the newly added hero Monkey King\n",
    "hero_id_to_name[114] = 'Monkey King'"
   ]
  },
  {
   "cell_type": "code",
   "execution_count": 268,
   "metadata": {},
   "outputs": [],
   "source": [
    "hero_pair_list = sorted([(hero_pair_winrate[i][j], hero_id_to_name[i], hero_id_to_name[j]) \\\n",
    "                         for i in range(1,114) for j in range(i+1,115) if hero_pair_table[i][j][1]>50\\\n",
    "                        ],reverse=True)"
   ]
  },
  {
   "cell_type": "code",
   "execution_count": 269,
   "metadata": {},
   "outputs": [
    {
     "name": "stdout",
     "output_type": "stream",
     "text": [
      "Best 5 hero pairs: \n",
      " ['Bane---Leshrac', 'Beastmaster---Abaddon', 'Warlock---Keeper of the Light', 'Dark Seer---Doom', 'Leshrac---Tusk']\n",
      "Worst 5 hero pairs: \n",
      " ['Lone Druid---Naga Siren', 'Earth Spirit---Oracle', 'Leshrac---Terrorblade', 'Witch Doctor---Shadow Demon', 'Chen---Timbersaw']\n"
     ]
    }
   ],
   "source": [
    "print(\"Best 5 hero pairs: \\n\", [a+'---'+b for rate, a, b in hero_pair_list[:5]])\n",
    "print(\"Worst 5 hero pairs: \\n\", [a+'---'+b for rate, a, b in hero_pair_list[-5:]])"
   ]
  },
  {
   "cell_type": "code",
   "execution_count": 270,
   "metadata": {
    "collapsed": true
   },
   "outputs": [],
   "source": [
    "hero_counter_list = sorted([(hero_counter_winrate[i][j], hero_id_to_name[i], hero_id_to_name[j]) \\\n",
    "                         for i in range(1,114) for j in range(i+1,115) if hero_counter_table[i][j][1]>50\\\n",
    "                        ],reverse=True)"
   ]
  },
  {
   "cell_type": "code",
   "execution_count": 271,
   "metadata": {},
   "outputs": [
    {
     "name": "stdout",
     "output_type": "stream",
     "text": [
      "Best 5 hero versus: \n",
      " ['Chen counters Lone Druid', 'Naga Siren counters Abyssal Underlord', 'Brewmaster counters Abyssal Underlord', 'Leshrac counters Lone Druid', 'Lycanthrope counters Naga Siren']\n"
     ]
    }
   ],
   "source": [
    "print(\"Best 5 hero versus: \\n\", [a+' counters '+b for rate, a, b in hero_counter_list[:5]])"
   ]
  },
  {
   "cell_type": "markdown",
   "metadata": {},
   "source": [
    "### The results make some sense, but we may need more data to get more precise result."
   ]
  },
  {
   "cell_type": "markdown",
   "metadata": {},
   "source": [
    "### Same calculation was performed on a 4 million dataset. Here is the result"
   ]
  },
  {
   "cell_type": "code",
   "execution_count": 360,
   "metadata": {
    "collapsed": true
   },
   "outputs": [],
   "source": [
    "hero_pair_winrate = np.load('/scratch3/yufeil/oracle/misc/hero_pair_winrate.npy')\n",
    "hero_counter_winrate = np.load('/scratch3/yufeil/oracle/misc/hero_counter_winrate.npy')"
   ]
  },
  {
   "cell_type": "code",
   "execution_count": 362,
   "metadata": {},
   "outputs": [
    {
     "data": {
      "text/plain": [
       "array([[ 0.5       ,  0.5       ,  0.5       , ...,  0.5       ,\n",
       "         0.5       ,  0.5       ],\n",
       "       [ 0.5       ,  0.5       ,  0.59668859, ...,  0.46602972,\n",
       "         0.37910162,  0.49528302],\n",
       "       [ 0.5       ,  0.40540266,  0.5       , ...,  0.40355281,\n",
       "         0.33571927,  0.41134598],\n",
       "       ..., \n",
       "       [ 0.5       ,  0.53316375,  0.5981336 , ...,  0.5       ,\n",
       "         0.43611111,  0.50499144],\n",
       "       [ 0.5       ,  0.61889098,  0.66218545, ...,  0.5548926 ,\n",
       "         0.5       ,  0.57105263],\n",
       "       [ 0.5       ,  0.50472161,  0.59169921, ...,  0.49507458,\n",
       "         0.42819149,  0.5       ]])"
      ]
     },
     "execution_count": 362,
     "metadata": {},
     "output_type": "execute_result"
    }
   ],
   "source": [
    "hero_counter_winrate"
   ]
  },
  {
   "cell_type": "code",
   "execution_count": null,
   "metadata": {
    "collapsed": true
   },
   "outputs": [],
   "source": []
  },
  {
   "cell_type": "markdown",
   "metadata": {},
   "source": [
    "### With hero_pair and hero_counter information, we could get better classification result.  So we add two new features, chemistry and counter, by incorporating the results we just got."
   ]
  },
  {
   "cell_type": "code",
   "execution_count": 387,
   "metadata": {},
   "outputs": [],
   "source": [
    "def get_chemistry(row):\n",
    "    heroes1 = row['radiant_heroes'].lstrip('{').rstrip('}').split(',')\n",
    "    heroes2 = row['dire_heroes'].lstrip('{').rstrip('}').split(',')\n",
    "    heroes1 = list(map(int, heroes1))\n",
    "    heroes2 = list(map(int, heroes2))\n",
    "    \n",
    "    winrate_r, winrate_d = 1, 1\n",
    "    \n",
    "    for i, j in combinations(heroes1,2):\n",
    "        winrate_r *= hero_pair_winrate[i][j]\n",
    "    for i, j in combinations(heroes2,2):\n",
    "        winrate_d *= hero_pair_winrate[i][j]\n",
    "    \n",
    "#     return winrate_r/winrate_d\n",
    "    return winrate_r-winrate_d\n",
    "\n",
    "def get_counter(row):\n",
    "    heroes1 = row['radiant_heroes'].lstrip('{').rstrip('}').split(',')\n",
    "    heroes2 = row['dire_heroes'].lstrip('{').rstrip('}').split(',')\n",
    "    heroes1 = list(map(int, heroes1))\n",
    "    heroes2 = list(map(int, heroes2))\n",
    "    \n",
    "#     counter = 1\n",
    "    counter = 0\n",
    "    \n",
    "    for i in heroes1:\n",
    "        for j in heroes2:\n",
    "#             counter *= hero_counter_winrate[i][j]/0.5\n",
    "            counter += hero_counter_winrate[i][j]\n",
    "    \n",
    "    return counter\n",
    "\n",
    "df['chemistry'] = heroes_picked.apply(get_chemistry, axis=1)\n",
    "df['counter'] = heroes_picked.apply(get_counter, axis=1)"
   ]
  },
  {
   "cell_type": "code",
   "execution_count": 364,
   "metadata": {},
   "outputs": [
    {
     "data": {
      "text/html": [
       "<div>\n",
       "<table border=\"1\" class=\"dataframe\">\n",
       "  <thead>\n",
       "    <tr style=\"text-align: right;\">\n",
       "      <th></th>\n",
       "      <th>hero_id_1</th>\n",
       "      <th>hero_id_10</th>\n",
       "      <th>hero_id_100</th>\n",
       "      <th>hero_id_101</th>\n",
       "      <th>hero_id_102</th>\n",
       "      <th>hero_id_103</th>\n",
       "      <th>hero_id_104</th>\n",
       "      <th>hero_id_105</th>\n",
       "      <th>hero_id_106</th>\n",
       "      <th>hero_id_107</th>\n",
       "      <th>...</th>\n",
       "      <th>hero_id_95</th>\n",
       "      <th>hero_id_96</th>\n",
       "      <th>hero_id_97</th>\n",
       "      <th>hero_id_98</th>\n",
       "      <th>hero_id_99</th>\n",
       "      <th>radiant_win</th>\n",
       "      <th>chemistry</th>\n",
       "      <th>counter</th>\n",
       "      <th>skill</th>\n",
       "      <th>tower_advantage</th>\n",
       "    </tr>\n",
       "  </thead>\n",
       "  <tbody>\n",
       "    <tr>\n",
       "      <th>0</th>\n",
       "      <td>0</td>\n",
       "      <td>0</td>\n",
       "      <td>0</td>\n",
       "      <td>0</td>\n",
       "      <td>0</td>\n",
       "      <td>0</td>\n",
       "      <td>1</td>\n",
       "      <td>0</td>\n",
       "      <td>0</td>\n",
       "      <td>0</td>\n",
       "      <td>...</td>\n",
       "      <td>0</td>\n",
       "      <td>0</td>\n",
       "      <td>0</td>\n",
       "      <td>0</td>\n",
       "      <td>0</td>\n",
       "      <td>False</td>\n",
       "      <td>0.000340</td>\n",
       "      <td>12.241052</td>\n",
       "      <td>3.0</td>\n",
       "      <td>-7</td>\n",
       "    </tr>\n",
       "    <tr>\n",
       "      <th>1</th>\n",
       "      <td>0</td>\n",
       "      <td>0</td>\n",
       "      <td>0</td>\n",
       "      <td>0</td>\n",
       "      <td>0</td>\n",
       "      <td>0</td>\n",
       "      <td>0</td>\n",
       "      <td>0</td>\n",
       "      <td>0</td>\n",
       "      <td>0</td>\n",
       "      <td>...</td>\n",
       "      <td>0</td>\n",
       "      <td>0</td>\n",
       "      <td>0</td>\n",
       "      <td>0</td>\n",
       "      <td>1</td>\n",
       "      <td>True</td>\n",
       "      <td>-0.000370</td>\n",
       "      <td>12.799962</td>\n",
       "      <td>1.0</td>\n",
       "      <td>6</td>\n",
       "    </tr>\n",
       "    <tr>\n",
       "      <th>2</th>\n",
       "      <td>0</td>\n",
       "      <td>0</td>\n",
       "      <td>0</td>\n",
       "      <td>0</td>\n",
       "      <td>0</td>\n",
       "      <td>0</td>\n",
       "      <td>1</td>\n",
       "      <td>0</td>\n",
       "      <td>1</td>\n",
       "      <td>0</td>\n",
       "      <td>...</td>\n",
       "      <td>0</td>\n",
       "      <td>0</td>\n",
       "      <td>0</td>\n",
       "      <td>0</td>\n",
       "      <td>0</td>\n",
       "      <td>False</td>\n",
       "      <td>0.000079</td>\n",
       "      <td>12.555192</td>\n",
       "      <td>1.0</td>\n",
       "      <td>-7</td>\n",
       "    </tr>\n",
       "    <tr>\n",
       "      <th>3</th>\n",
       "      <td>0</td>\n",
       "      <td>0</td>\n",
       "      <td>0</td>\n",
       "      <td>0</td>\n",
       "      <td>1</td>\n",
       "      <td>0</td>\n",
       "      <td>0</td>\n",
       "      <td>0</td>\n",
       "      <td>0</td>\n",
       "      <td>0</td>\n",
       "      <td>...</td>\n",
       "      <td>0</td>\n",
       "      <td>0</td>\n",
       "      <td>0</td>\n",
       "      <td>0</td>\n",
       "      <td>0</td>\n",
       "      <td>True</td>\n",
       "      <td>0.001110</td>\n",
       "      <td>11.286713</td>\n",
       "      <td>1.0</td>\n",
       "      <td>4</td>\n",
       "    </tr>\n",
       "    <tr>\n",
       "      <th>4</th>\n",
       "      <td>0</td>\n",
       "      <td>0</td>\n",
       "      <td>0</td>\n",
       "      <td>0</td>\n",
       "      <td>0</td>\n",
       "      <td>0</td>\n",
       "      <td>0</td>\n",
       "      <td>0</td>\n",
       "      <td>0</td>\n",
       "      <td>0</td>\n",
       "      <td>...</td>\n",
       "      <td>0</td>\n",
       "      <td>0</td>\n",
       "      <td>0</td>\n",
       "      <td>1</td>\n",
       "      <td>0</td>\n",
       "      <td>True</td>\n",
       "      <td>0.000201</td>\n",
       "      <td>11.819558</td>\n",
       "      <td>NaN</td>\n",
       "      <td>6</td>\n",
       "    </tr>\n",
       "  </tbody>\n",
       "</table>\n",
       "<p>5 rows × 233 columns</p>\n",
       "</div>"
      ],
      "text/plain": [
       "   hero_id_1  hero_id_10  hero_id_100  hero_id_101  hero_id_102  hero_id_103  \\\n",
       "0          0           0            0            0            0            0   \n",
       "1          0           0            0            0            0            0   \n",
       "2          0           0            0            0            0            0   \n",
       "3          0           0            0            0            1            0   \n",
       "4          0           0            0            0            0            0   \n",
       "\n",
       "   hero_id_104  hero_id_105  hero_id_106  hero_id_107       ...         \\\n",
       "0            1            0            0            0       ...          \n",
       "1            0            0            0            0       ...          \n",
       "2            1            0            1            0       ...          \n",
       "3            0            0            0            0       ...          \n",
       "4            0            0            0            0       ...          \n",
       "\n",
       "   hero_id_95  hero_id_96  hero_id_97  hero_id_98  hero_id_99  radiant_win  \\\n",
       "0           0           0           0           0           0        False   \n",
       "1           0           0           0           0           1         True   \n",
       "2           0           0           0           0           0        False   \n",
       "3           0           0           0           0           0         True   \n",
       "4           0           0           0           1           0         True   \n",
       "\n",
       "   chemistry    counter  skill  tower_advantage  \n",
       "0   0.000340  12.241052    3.0               -7  \n",
       "1  -0.000370  12.799962    1.0                6  \n",
       "2   0.000079  12.555192    1.0               -7  \n",
       "3   0.001110  11.286713    1.0                4  \n",
       "4   0.000201  11.819558    NaN                6  \n",
       "\n",
       "[5 rows x 233 columns]"
      ]
     },
     "execution_count": 364,
     "metadata": {},
     "output_type": "execute_result"
    }
   ],
   "source": [
    "df.head()"
   ]
  },
  {
   "cell_type": "markdown",
   "metadata": {},
   "source": [
    "### Let's standardization the newly added columns"
   ]
  },
  {
   "cell_type": "code",
   "execution_count": 388,
   "metadata": {},
   "outputs": [],
   "source": [
    "from sklearn.preprocessing import StandardScaler\n",
    "sc = StandardScaler()\n",
    "df['chemistry'] = sc.fit_transform(df['chemistry'].reshape(-1,1))"
   ]
  },
  {
   "cell_type": "code",
   "execution_count": 389,
   "metadata": {},
   "outputs": [],
   "source": [
    "sc1 = StandardScaler()\n",
    "df['counter'] = sc1.fit_transform(df['counter'].reshape(-1,1))"
   ]
  },
  {
   "cell_type": "code",
   "execution_count": 390,
   "metadata": {},
   "outputs": [
    {
     "data": {
      "text/html": [
       "<div>\n",
       "<table border=\"1\" class=\"dataframe\">\n",
       "  <thead>\n",
       "    <tr style=\"text-align: right;\">\n",
       "      <th></th>\n",
       "      <th>chemistry</th>\n",
       "      <th>counter</th>\n",
       "    </tr>\n",
       "  </thead>\n",
       "  <tbody>\n",
       "    <tr>\n",
       "      <th>count</th>\n",
       "      <td>3.326600e+05</td>\n",
       "      <td>3.326600e+05</td>\n",
       "    </tr>\n",
       "    <tr>\n",
       "      <th>mean</th>\n",
       "      <td>-1.899654e-18</td>\n",
       "      <td>-4.469709e-15</td>\n",
       "    </tr>\n",
       "    <tr>\n",
       "      <th>std</th>\n",
       "      <td>1.000002e+00</td>\n",
       "      <td>1.000002e+00</td>\n",
       "    </tr>\n",
       "    <tr>\n",
       "      <th>min</th>\n",
       "      <td>-6.554945e+00</td>\n",
       "      <td>-5.071727e+00</td>\n",
       "    </tr>\n",
       "    <tr>\n",
       "      <th>25%</th>\n",
       "      <td>-5.527444e-01</td>\n",
       "      <td>-6.796383e-01</td>\n",
       "    </tr>\n",
       "    <tr>\n",
       "      <th>50%</th>\n",
       "      <td>-1.029244e-03</td>\n",
       "      <td>1.345785e-03</td>\n",
       "    </tr>\n",
       "    <tr>\n",
       "      <th>75%</th>\n",
       "      <td>5.535619e-01</td>\n",
       "      <td>6.764086e-01</td>\n",
       "    </tr>\n",
       "    <tr>\n",
       "      <th>max</th>\n",
       "      <td>8.126442e+00</td>\n",
       "      <td>4.533247e+00</td>\n",
       "    </tr>\n",
       "  </tbody>\n",
       "</table>\n",
       "</div>"
      ],
      "text/plain": [
       "          chemistry       counter\n",
       "count  3.326600e+05  3.326600e+05\n",
       "mean  -1.899654e-18 -4.469709e-15\n",
       "std    1.000002e+00  1.000002e+00\n",
       "min   -6.554945e+00 -5.071727e+00\n",
       "25%   -5.527444e-01 -6.796383e-01\n",
       "50%   -1.029244e-03  1.345785e-03\n",
       "75%    5.535619e-01  6.764086e-01\n",
       "max    8.126442e+00  4.533247e+00"
      ]
     },
     "execution_count": 390,
     "metadata": {},
     "output_type": "execute_result"
    }
   ],
   "source": [
    "df[['chemistry','counter']].describe()"
   ]
  },
  {
   "cell_type": "code",
   "execution_count": 391,
   "metadata": {},
   "outputs": [
    {
     "data": {
      "text/html": [
       "<div>\n",
       "<table border=\"1\" class=\"dataframe\">\n",
       "  <thead>\n",
       "    <tr style=\"text-align: right;\">\n",
       "      <th></th>\n",
       "      <th>chemistry</th>\n",
       "      <th>counter</th>\n",
       "      <th>radiant_win</th>\n",
       "    </tr>\n",
       "  </thead>\n",
       "  <tbody>\n",
       "    <tr>\n",
       "      <th>0</th>\n",
       "      <td>0.339638</td>\n",
       "      <td>-0.434750</td>\n",
       "      <td>False</td>\n",
       "    </tr>\n",
       "    <tr>\n",
       "      <th>1</th>\n",
       "      <td>-0.367530</td>\n",
       "      <td>0.483917</td>\n",
       "      <td>True</td>\n",
       "    </tr>\n",
       "    <tr>\n",
       "      <th>2</th>\n",
       "      <td>0.079395</td>\n",
       "      <td>0.081594</td>\n",
       "      <td>False</td>\n",
       "    </tr>\n",
       "    <tr>\n",
       "      <th>3</th>\n",
       "      <td>1.106188</td>\n",
       "      <td>-2.003374</td>\n",
       "      <td>True</td>\n",
       "    </tr>\n",
       "    <tr>\n",
       "      <th>4</th>\n",
       "      <td>0.200473</td>\n",
       "      <td>-1.127549</td>\n",
       "      <td>True</td>\n",
       "    </tr>\n",
       "    <tr>\n",
       "      <th>5</th>\n",
       "      <td>1.070658</td>\n",
       "      <td>-1.397332</td>\n",
       "      <td>True</td>\n",
       "    </tr>\n",
       "    <tr>\n",
       "      <th>6</th>\n",
       "      <td>-2.358842</td>\n",
       "      <td>1.688745</td>\n",
       "      <td>False</td>\n",
       "    </tr>\n",
       "    <tr>\n",
       "      <th>7</th>\n",
       "      <td>1.225336</td>\n",
       "      <td>-2.514110</td>\n",
       "      <td>True</td>\n",
       "    </tr>\n",
       "    <tr>\n",
       "      <th>8</th>\n",
       "      <td>-0.399405</td>\n",
       "      <td>0.516899</td>\n",
       "      <td>False</td>\n",
       "    </tr>\n",
       "    <tr>\n",
       "      <th>9</th>\n",
       "      <td>0.630126</td>\n",
       "      <td>-1.740670</td>\n",
       "      <td>False</td>\n",
       "    </tr>\n",
       "  </tbody>\n",
       "</table>\n",
       "</div>"
      ],
      "text/plain": [
       "   chemistry   counter radiant_win\n",
       "0   0.339638 -0.434750       False\n",
       "1  -0.367530  0.483917        True\n",
       "2   0.079395  0.081594       False\n",
       "3   1.106188 -2.003374        True\n",
       "4   0.200473 -1.127549        True\n",
       "5   1.070658 -1.397332        True\n",
       "6  -2.358842  1.688745       False\n",
       "7   1.225336 -2.514110        True\n",
       "8  -0.399405  0.516899       False\n",
       "9   0.630126 -1.740670       False"
      ]
     },
     "execution_count": 391,
     "metadata": {},
     "output_type": "execute_result"
    }
   ],
   "source": [
    "df[['chemistry','counter','radiant_win']].head(10)"
   ]
  },
  {
   "cell_type": "markdown",
   "metadata": {},
   "source": [
    "### Now fit with logistic regression."
   ]
  },
  {
   "cell_type": "code",
   "execution_count": 396,
   "metadata": {},
   "outputs": [],
   "source": [
    "# Prepare the data for classification.\n",
    "X_new = df.drop(['radiant_win','skill','tower_advantage'], axis=1)\n",
    "y = df['radiant_win']\n",
    "\n",
    "from sklearn.cross_validation import train_test_split\n",
    "X_train, X_test, y_train, y_test = train_test_split(X_new, y, test_size=0.25)"
   ]
  },
  {
   "cell_type": "code",
   "execution_count": 397,
   "metadata": {},
   "outputs": [
    {
     "name": "stdout",
     "output_type": "stream",
     "text": [
      "Time consumed:  0:00:03\n",
      "0.602416882102\n"
     ]
    }
   ],
   "source": [
    "from sklearn.linear_model import LogisticRegression\n",
    "lr_c_new = LogisticRegression()\n",
    "\n",
    "start_time = time.strftime(\"%Y-%m-%d %H:%M:%S\", time.localtime())\n",
    "\n",
    "with open('lr_new_log.txt', 'a') as f:\n",
    "    f.write(\"\\nStart fitting... Time: {}\".format(time.strftime(\"%Y-%m-%d %H:%M:%S\", time.localtime())))\n",
    "\n",
    "lr_c_new.fit(X_train, y_train)\n",
    "    \n",
    "with open('lr_new_log.txt', 'a') as f:\n",
    "    f.write(\"\\nFinished fitting... Time: {}\".format(time.strftime(\"%Y-%m-%d %H:%M:%S\", time.localtime())))\n",
    "\n",
    "# Predicting the Test set results\n",
    "y_score = lr_c_new.score(X_test, y_test)\n",
    "\n",
    "with open('lr_new_log.txt', 'a') as f:\n",
    "    f.write(\"\\nAccuracy: {}. \\nSaving model...\".format(y_score))\n",
    "\n",
    "from datetime import datetime\n",
    "end_time = time.strftime(\"%Y-%m-%d %H:%M:%S\", time.localtime())\n",
    "time_format = \"%Y-%m-%d %H:%M:%S\"\n",
    "timeconsumed_lr = datetime.strptime(end_time, time_format) - datetime.strptime(start_time, time_format)\n",
    "print(\"Time consumed: \", timeconsumed_lr)\n",
    "print(y_score)"
   ]
  },
  {
   "cell_type": "markdown",
   "metadata": {},
   "source": [
    "### Only a slight improvement we got. How about we only select a subset of the data where skill > 2? This is because at lower skilled matches, players' personal performance and skill are more important than the hero selected. "
   ]
  },
  {
   "cell_type": "code",
   "execution_count": 398,
   "metadata": {
    "collapsed": true
   },
   "outputs": [],
   "source": [
    "df['skill'] = matches['skill']"
   ]
  },
  {
   "cell_type": "code",
   "execution_count": 399,
   "metadata": {},
   "outputs": [
    {
     "data": {
      "text/plain": [
       "(62862, 233)"
      ]
     },
     "execution_count": 399,
     "metadata": {},
     "output_type": "execute_result"
    }
   ],
   "source": [
    "df1 = df[df['skill']>=2]\n",
    "df1.shape"
   ]
  },
  {
   "cell_type": "code",
   "execution_count": 400,
   "metadata": {},
   "outputs": [],
   "source": [
    "# Prepare the data for classification.\n",
    "X1 = df1.drop(['radiant_win','tower_advantage','skill'], axis=1)\n",
    "y1 = df1['radiant_win']\n",
    "\n",
    "from sklearn.cross_validation import train_test_split\n",
    "X1_train, X1_test, y1_train, y1_test = train_test_split(X1, y1, test_size=0.25)"
   ]
  },
  {
   "cell_type": "code",
   "execution_count": 401,
   "metadata": {},
   "outputs": [
    {
     "name": "stdout",
     "output_type": "stream",
     "text": [
      "0.600407228302\n"
     ]
    }
   ],
   "source": [
    "from sklearn.linear_model import LogisticRegression\n",
    "lr1 = LogisticRegression()\n",
    "lr1.fit(X1_train,y1_train)\n",
    "y_score = lr1.score(X1_test, y1_test)\n",
    "print(y_score)"
   ]
  },
  {
   "cell_type": "markdown",
   "metadata": {},
   "source": [
    "### The model might be optimized, if instead of simply assigning True/False as the dependent variable, we use tower/barracks status as the result of each match. This convert the problem from classification to regression, but we can convert it back to True/False based on the results fitted.\n",
    "### The reason is that the tower/barracks status on both sides when a game ends can indicate how *stomping* the game is, which also depends on the hero selected. This method is analogous to predicting the result of a soccer game, where we use the final score rather than which team wins as the dependent variable."
   ]
  },
  {
   "cell_type": "markdown",
   "metadata": {},
   "source": [
    "#### Tower status coding and barracks status coding can be found:\n",
    "#### https://dota2api.readthedocs.io/en/latest/responses.html#single-team-tower-status\n",
    "#### Here we only use the tower status, and we convert it to the number of towers destroyed"
   ]
  },
  {
   "cell_type": "code",
   "execution_count": 328,
   "metadata": {},
   "outputs": [
    {
     "data": {
      "text/plain": [
       "0       0\n",
       "1    1956\n",
       "2       0\n",
       "3    1572\n",
       "4    1830\n",
       "Name: tower_status_radiant, dtype: int64"
      ]
     },
     "execution_count": 328,
     "metadata": {},
     "output_type": "execute_result"
    }
   ],
   "source": [
    "matches['tower_status_radiant'].head()"
   ]
  },
  {
   "cell_type": "code",
   "execution_count": 333,
   "metadata": {},
   "outputs": [
    {
     "data": {
      "text/html": [
       "<div>\n",
       "<table border=\"1\" class=\"dataframe\">\n",
       "  <thead>\n",
       "    <tr style=\"text-align: right;\">\n",
       "      <th></th>\n",
       "      <th>hero_id_1</th>\n",
       "      <th>hero_id_10</th>\n",
       "      <th>hero_id_100</th>\n",
       "      <th>hero_id_101</th>\n",
       "      <th>hero_id_102</th>\n",
       "      <th>hero_id_103</th>\n",
       "      <th>hero_id_104</th>\n",
       "      <th>hero_id_105</th>\n",
       "      <th>hero_id_106</th>\n",
       "      <th>hero_id_107</th>\n",
       "      <th>...</th>\n",
       "      <th>hero_id_95</th>\n",
       "      <th>hero_id_96</th>\n",
       "      <th>hero_id_97</th>\n",
       "      <th>hero_id_98</th>\n",
       "      <th>hero_id_99</th>\n",
       "      <th>radiant_win</th>\n",
       "      <th>chemistry</th>\n",
       "      <th>counter</th>\n",
       "      <th>skill</th>\n",
       "      <th>tower_advantage</th>\n",
       "    </tr>\n",
       "  </thead>\n",
       "  <tbody>\n",
       "    <tr>\n",
       "      <th>0</th>\n",
       "      <td>0</td>\n",
       "      <td>0</td>\n",
       "      <td>0</td>\n",
       "      <td>0</td>\n",
       "      <td>0</td>\n",
       "      <td>0</td>\n",
       "      <td>1</td>\n",
       "      <td>0</td>\n",
       "      <td>0</td>\n",
       "      <td>0</td>\n",
       "      <td>...</td>\n",
       "      <td>0</td>\n",
       "      <td>0</td>\n",
       "      <td>0</td>\n",
       "      <td>0</td>\n",
       "      <td>0</td>\n",
       "      <td>False</td>\n",
       "      <td>0.206462</td>\n",
       "      <td>0.146164</td>\n",
       "      <td>3.0</td>\n",
       "      <td>-7</td>\n",
       "    </tr>\n",
       "    <tr>\n",
       "      <th>1</th>\n",
       "      <td>0</td>\n",
       "      <td>0</td>\n",
       "      <td>0</td>\n",
       "      <td>0</td>\n",
       "      <td>0</td>\n",
       "      <td>0</td>\n",
       "      <td>0</td>\n",
       "      <td>0</td>\n",
       "      <td>0</td>\n",
       "      <td>0</td>\n",
       "      <td>...</td>\n",
       "      <td>0</td>\n",
       "      <td>0</td>\n",
       "      <td>0</td>\n",
       "      <td>0</td>\n",
       "      <td>1</td>\n",
       "      <td>True</td>\n",
       "      <td>-0.127198</td>\n",
       "      <td>-0.117269</td>\n",
       "      <td>1.0</td>\n",
       "      <td>6</td>\n",
       "    </tr>\n",
       "    <tr>\n",
       "      <th>2</th>\n",
       "      <td>0</td>\n",
       "      <td>0</td>\n",
       "      <td>0</td>\n",
       "      <td>0</td>\n",
       "      <td>0</td>\n",
       "      <td>0</td>\n",
       "      <td>1</td>\n",
       "      <td>0</td>\n",
       "      <td>1</td>\n",
       "      <td>0</td>\n",
       "      <td>...</td>\n",
       "      <td>0</td>\n",
       "      <td>0</td>\n",
       "      <td>0</td>\n",
       "      <td>0</td>\n",
       "      <td>0</td>\n",
       "      <td>False</td>\n",
       "      <td>-0.512321</td>\n",
       "      <td>-0.326627</td>\n",
       "      <td>1.0</td>\n",
       "      <td>-7</td>\n",
       "    </tr>\n",
       "    <tr>\n",
       "      <th>3</th>\n",
       "      <td>0</td>\n",
       "      <td>0</td>\n",
       "      <td>0</td>\n",
       "      <td>0</td>\n",
       "      <td>1</td>\n",
       "      <td>0</td>\n",
       "      <td>0</td>\n",
       "      <td>0</td>\n",
       "      <td>0</td>\n",
       "      <td>0</td>\n",
       "      <td>...</td>\n",
       "      <td>0</td>\n",
       "      <td>0</td>\n",
       "      <td>0</td>\n",
       "      <td>0</td>\n",
       "      <td>0</td>\n",
       "      <td>True</td>\n",
       "      <td>-0.596642</td>\n",
       "      <td>-0.416837</td>\n",
       "      <td>1.0</td>\n",
       "      <td>4</td>\n",
       "    </tr>\n",
       "    <tr>\n",
       "      <th>4</th>\n",
       "      <td>0</td>\n",
       "      <td>0</td>\n",
       "      <td>0</td>\n",
       "      <td>0</td>\n",
       "      <td>0</td>\n",
       "      <td>0</td>\n",
       "      <td>0</td>\n",
       "      <td>0</td>\n",
       "      <td>0</td>\n",
       "      <td>0</td>\n",
       "      <td>...</td>\n",
       "      <td>0</td>\n",
       "      <td>0</td>\n",
       "      <td>0</td>\n",
       "      <td>1</td>\n",
       "      <td>0</td>\n",
       "      <td>True</td>\n",
       "      <td>-0.240310</td>\n",
       "      <td>0.927178</td>\n",
       "      <td>NaN</td>\n",
       "      <td>6</td>\n",
       "    </tr>\n",
       "  </tbody>\n",
       "</table>\n",
       "<p>5 rows × 233 columns</p>\n",
       "</div>"
      ],
      "text/plain": [
       "   hero_id_1  hero_id_10  hero_id_100  hero_id_101  hero_id_102  hero_id_103  \\\n",
       "0          0           0            0            0            0            0   \n",
       "1          0           0            0            0            0            0   \n",
       "2          0           0            0            0            0            0   \n",
       "3          0           0            0            0            1            0   \n",
       "4          0           0            0            0            0            0   \n",
       "\n",
       "   hero_id_104  hero_id_105  hero_id_106  hero_id_107       ...         \\\n",
       "0            1            0            0            0       ...          \n",
       "1            0            0            0            0       ...          \n",
       "2            1            0            1            0       ...          \n",
       "3            0            0            0            0       ...          \n",
       "4            0            0            0            0       ...          \n",
       "\n",
       "   hero_id_95  hero_id_96  hero_id_97  hero_id_98  hero_id_99  radiant_win  \\\n",
       "0           0           0           0           0           0        False   \n",
       "1           0           0           0           0           1         True   \n",
       "2           0           0           0           0           0        False   \n",
       "3           0           0           0           0           0         True   \n",
       "4           0           0           0           1           0         True   \n",
       "\n",
       "   chemistry   counter  skill  tower_advantage  \n",
       "0   0.206462  0.146164    3.0               -7  \n",
       "1  -0.127198 -0.117269    1.0                6  \n",
       "2  -0.512321 -0.326627    1.0               -7  \n",
       "3  -0.596642 -0.416837    1.0                4  \n",
       "4  -0.240310  0.927178    NaN                6  \n",
       "\n",
       "[5 rows x 233 columns]"
      ]
     },
     "execution_count": 333,
     "metadata": {},
     "output_type": "execute_result"
    }
   ],
   "source": [
    "tower_remaining_radiant = matches['tower_status_radiant'].apply(lambda x: bin(x).count(\"1\"))\n",
    "tower_remaining_dire = matches['tower_status_dire'].apply(lambda x: bin(x).count(\"1\"))\n",
    "df['tower_advantage'] = tower_remaining_radiant - tower_remaining_dire\n",
    "df.head()"
   ]
  },
  {
   "cell_type": "markdown",
   "metadata": {},
   "source": [
    "## Now we perform regression on the data"
   ]
  },
  {
   "cell_type": "markdown",
   "metadata": {},
   "source": [
    "### 1. Linear Regression"
   ]
  },
  {
   "cell_type": "code",
   "execution_count": 402,
   "metadata": {},
   "outputs": [],
   "source": [
    "X = df.drop(['radiant_win','skill','tower_advantage'], axis=1)\n",
    "y = df['tower_advantage']\n",
    "\n",
    "X_train, X_test, y_train, y_test = train_test_split(X, y, test_size = 0.2, random_state = 0)"
   ]
  },
  {
   "cell_type": "code",
   "execution_count": 403,
   "metadata": {
    "collapsed": true
   },
   "outputs": [],
   "source": [
    "from sklearn.linear_model import LinearRegression\n",
    "lr_regressor = LinearRegression()\n",
    "lr_regressor.fit(X_train, y_train)\n",
    "\n",
    "y_predict = lr_regressor.predict(X_test)"
   ]
  },
  {
   "cell_type": "code",
   "execution_count": 404,
   "metadata": {},
   "outputs": [
    {
     "name": "stdout",
     "output_type": "stream",
     "text": [
      "0.593518908195\n"
     ]
    }
   ],
   "source": [
    "radiant_win_predict = y_predict > 0\n",
    "radiant_win_test = y_test > 0\n",
    "\n",
    "accuracy = sum(radiant_win_predict == radiant_win_test) / len(radiant_win_test)\n",
    "print(accuracy)"
   ]
  },
  {
   "cell_type": "markdown",
   "metadata": {},
   "source": [
    "### 2. SVM"
   ]
  },
  {
   "cell_type": "code",
   "execution_count": null,
   "metadata": {
    "collapsed": true
   },
   "outputs": [],
   "source": [
    "from sklearn.svm import SVR\n",
    "svr_regressor = SVR(kernel = 'rbf')\n",
    "svr_regressor.fit(X_train, y_train)"
   ]
  },
  {
   "cell_type": "code",
   "execution_count": 350,
   "metadata": {},
   "outputs": [
    {
     "name": "stdout",
     "output_type": "stream",
     "text": [
      "0.586935609932\n"
     ]
    }
   ],
   "source": [
    "y_predict = svr_regressor.predict(X_test)\n",
    "radiant_win_predict = y_predict > 0\n",
    "radiant_win_test = y_test > 0\n",
    "\n",
    "accuracy = sum(radiant_win_predict == radiant_win_test) / len(radiant_win_test)\n",
    "print(accuracy)"
   ]
  },
  {
   "cell_type": "markdown",
   "metadata": {},
   "source": [
    "### 3. Random Forest"
   ]
  },
  {
   "cell_type": "code",
   "execution_count": null,
   "metadata": {},
   "outputs": [],
   "source": [
    "from sklearn.ensemble import RandomForestRegressor\n",
    "\n",
    "start_time = time.strftime(\"%Y-%m-%d %H:%M:%S\", time.localtime())\n",
    "\n",
    "rf_regressor = RandomForestRegressor(n_estimators = 10, random_state = 0)\n",
    "rf_regressor.fit(X_train, y_train)\n",
    "\n",
    "y_predict = rf_regressor.predict(X_test)\n",
    "\n",
    "radiant_win_predict = y_predict > 0\n",
    "radiant_win_test = y_test > 0\n",
    "\n",
    "accuracy = sum(radiant_win_predict == radiant_win_test) / len(radiant_win_test)\n",
    "print(accuracy)\n",
    "\n",
    "end_time = time.strftime(\"%Y-%m-%d %H:%M:%S\", time.localtime())\n",
    "time_format = \"%Y-%m-%d %H:%M:%S\"\n",
    "timeconsumed_lr = datetime.strptime(end_time, time_format) - datetime.strptime(start_time, time_format)\n",
    "print(\"Time consumed: \", timeconsumed_lr)"
   ]
  },
  {
   "cell_type": "code",
   "execution_count": null,
   "metadata": {
    "collapsed": true
   },
   "outputs": [],
   "source": []
  },
  {
   "cell_type": "markdown",
   "metadata": {},
   "source": [
    "## <span style=\"color:coral;\">Analyze the hero importance.</span>"
   ]
  },
  {
   "cell_type": "markdown",
   "metadata": {},
   "source": [
    "#### In order to analyze which heroes are the most important to determine the result, we can use random forest model. Other than that, it would be helpful if we fit the data using the feature space mentioned earlier: i from 1 to 114, xi = 0 if not selected, 1 if on radiant, and -1 if on dire. I have fit it that way and saved the model as 'random_forest_classifier.pkl'"
   ]
  },
  {
   "cell_type": "code",
   "execution_count": 108,
   "metadata": {
    "collapsed": true
   },
   "outputs": [],
   "source": [
    "from sklearn.externals import joblib\n",
    "from sklearn.datasets import make_classification\n",
    "from sklearn.ensemble import ExtraTreesClassifier"
   ]
  },
  {
   "cell_type": "code",
   "execution_count": 123,
   "metadata": {
    "collapsed": true
   },
   "outputs": [],
   "source": [
    "classifier = joblib.load('../oracle/random_forest_classifier.pkl')"
   ]
  },
  {
   "cell_type": "code",
   "execution_count": 131,
   "metadata": {
    "collapsed": true
   },
   "outputs": [],
   "source": [
    "importances = classifier.feature_importances_\n",
    "std = np.std([tree.feature_importances_ for tree in classifier.estimators_],\n",
    "             axis=0)"
   ]
  },
  {
   "cell_type": "code",
   "execution_count": 137,
   "metadata": {},
   "outputs": [],
   "source": [
    "indices = np.argsort(importances)[::-1]"
   ]
  },
  {
   "cell_type": "code",
   "execution_count": 138,
   "metadata": {},
   "outputs": [
    {
     "name": "stdout",
     "output_type": "stream",
     "text": [
      "Feature ranking:\n",
      "1. feature 103 (0.020110)\n",
      "2. feature 34 (0.019514)\n",
      "3. feature 92 (0.019186)\n",
      "4. feature 7 (0.018051)\n",
      "5. feature 10 (0.018027)\n",
      "6. feature 3 (0.017062)\n",
      "7. feature 0 (0.015480)\n",
      "8. feature 8 (0.014990)\n",
      "9. feature 62 (0.014775)\n",
      "10. feature 5 (0.014399)\n",
      "11. feature 53 (0.014084)\n",
      "12. feature 105 (0.013489)\n",
      "13. feature 73 (0.013357)\n",
      "14. feature 27 (0.013290)\n",
      "15. feature 17 (0.013046)\n",
      "16. feature 25 (0.012887)\n",
      "17. feature 61 (0.012691)\n",
      "18. feature 16 (0.012155)\n",
      "19. feature 94 (0.012133)\n",
      "20. feature 83 (0.012030)\n",
      "21. feature 87 (0.012027)\n",
      "22. feature 69 (0.011953)\n",
      "23. feature 97 (0.011900)\n",
      "24. feature 6 (0.011815)\n",
      "25. feature 15 (0.011746)\n",
      "26. feature 40 (0.011729)\n",
      "27. feature 85 (0.011561)\n",
      "28. feature 47 (0.011514)\n",
      "29. feature 46 (0.011454)\n",
      "30. feature 74 (0.011394)\n",
      "31. feature 33 (0.011243)\n",
      "32. feature 96 (0.011231)\n",
      "33. feature 98 (0.011212)\n",
      "34. feature 70 (0.011144)\n",
      "35. feature 72 (0.010508)\n",
      "36. feature 75 (0.010429)\n",
      "37. feature 113 (0.010317)\n",
      "38. feature 19 (0.010134)\n",
      "39. feature 43 (0.010053)\n",
      "40. feature 29 (0.009796)\n",
      "41. feature 45 (0.009704)\n",
      "42. feature 20 (0.009583)\n",
      "43. feature 11 (0.009438)\n",
      "44. feature 31 (0.009349)\n",
      "45. feature 13 (0.009175)\n",
      "46. feature 1 (0.008958)\n",
      "47. feature 86 (0.008957)\n",
      "48. feature 89 (0.008939)\n",
      "49. feature 100 (0.008841)\n",
      "50. feature 55 (0.008830)\n",
      "51. feature 4 (0.008821)\n",
      "52. feature 80 (0.008743)\n",
      "53. feature 104 (0.008619)\n",
      "54. feature 21 (0.008553)\n",
      "55. feature 82 (0.008468)\n",
      "56. feature 48 (0.008433)\n",
      "57. feature 93 (0.008296)\n",
      "58. feature 49 (0.008281)\n",
      "59. feature 26 (0.008230)\n",
      "60. feature 9 (0.008063)\n",
      "61. feature 39 (0.008047)\n",
      "62. feature 30 (0.008016)\n",
      "63. feature 50 (0.008008)\n",
      "64. feature 28 (0.007980)\n",
      "65. feature 56 (0.007945)\n",
      "66. feature 22 (0.007870)\n",
      "67. feature 32 (0.007809)\n",
      "68. feature 63 (0.007682)\n",
      "69. feature 18 (0.007431)\n",
      "70. feature 36 (0.007391)\n",
      "71. feature 108 (0.007375)\n",
      "72. feature 35 (0.007373)\n",
      "73. feature 58 (0.007299)\n",
      "74. feature 24 (0.007235)\n",
      "75. feature 41 (0.007047)\n",
      "76. feature 79 (0.007023)\n",
      "77. feature 59 (0.006729)\n",
      "78. feature 84 (0.006572)\n",
      "79. feature 107 (0.006259)\n",
      "80. feature 81 (0.006249)\n",
      "81. feature 44 (0.006088)\n",
      "82. feature 67 (0.006054)\n",
      "83. feature 68 (0.006029)\n",
      "84. feature 52 (0.005751)\n",
      "85. feature 101 (0.005745)\n",
      "86. feature 109 (0.005719)\n",
      "87. feature 66 (0.005695)\n",
      "88. feature 99 (0.005649)\n",
      "89. feature 54 (0.005593)\n",
      "90. feature 14 (0.005360)\n",
      "91. feature 38 (0.005337)\n",
      "92. feature 106 (0.005326)\n",
      "93. feature 78 (0.004994)\n",
      "94. feature 111 (0.004957)\n",
      "95. feature 12 (0.004945)\n",
      "96. feature 71 (0.004904)\n",
      "97. feature 57 (0.004853)\n",
      "98. feature 76 (0.004761)\n",
      "99. feature 42 (0.004514)\n",
      "100. feature 95 (0.004491)\n",
      "101. feature 64 (0.004325)\n",
      "102. feature 102 (0.004278)\n",
      "103. feature 2 (0.004249)\n",
      "104. feature 88 (0.004200)\n",
      "105. feature 51 (0.003966)\n",
      "106. feature 77 (0.003669)\n",
      "107. feature 110 (0.003445)\n",
      "108. feature 37 (0.003377)\n",
      "109. feature 60 (0.003164)\n",
      "110. feature 90 (0.002874)\n",
      "111. feature 112 (0.002842)\n",
      "112. feature 91 (0.002700)\n",
      "113. feature 65 (0.002611)\n",
      "114. feature 149 (0.000002)\n",
      "115. feature 135 (0.000000)\n",
      "116. feature 136 (0.000000)\n",
      "117. feature 141 (0.000000)\n",
      "118. feature 123 (0.000000)\n",
      "119. feature 122 (0.000000)\n",
      "120. feature 121 (0.000000)\n",
      "121. feature 120 (0.000000)\n",
      "122. feature 142 (0.000000)\n",
      "123. feature 114 (0.000000)\n",
      "124. feature 143 (0.000000)\n",
      "125. feature 144 (0.000000)\n",
      "126. feature 145 (0.000000)\n",
      "127. feature 146 (0.000000)\n",
      "128. feature 115 (0.000000)\n",
      "129. feature 147 (0.000000)\n",
      "130. feature 116 (0.000000)\n",
      "131. feature 117 (0.000000)\n",
      "132. feature 140 (0.000000)\n",
      "133. feature 139 (0.000000)\n",
      "134. feature 124 (0.000000)\n",
      "135. feature 137 (0.000000)\n",
      "136. feature 134 (0.000000)\n",
      "137. feature 133 (0.000000)\n",
      "138. feature 132 (0.000000)\n",
      "139. feature 118 (0.000000)\n",
      "140. feature 131 (0.000000)\n",
      "141. feature 130 (0.000000)\n",
      "142. feature 129 (0.000000)\n",
      "143. feature 125 (0.000000)\n",
      "144. feature 138 (0.000000)\n",
      "145. feature 128 (0.000000)\n",
      "146. feature 23 (0.000000)\n",
      "147. feature 148 (0.000000)\n",
      "148. feature 127 (0.000000)\n",
      "149. feature 126 (0.000000)\n",
      "150. feature 119 (0.000000)\n"
     ]
    }
   ],
   "source": [
    "print(\"Feature ranking:\")\n",
    "\n",
    "for f in range(150):\n",
    "    print(\"%d. feature %d (%f)\" % (f + 1, indices[f], importances[indices[f]]))"
   ]
  },
  {
   "cell_type": "code",
   "execution_count": 139,
   "metadata": {
    "collapsed": true
   },
   "outputs": [],
   "source": [
    "heroes_importance = {i+1:imp for i, imp in enumerate(importances) if imp != 0}"
   ]
  },
  {
   "cell_type": "code",
   "execution_count": 140,
   "metadata": {},
   "outputs": [
    {
     "name": "stdout",
     "output_type": "stream",
     "text": [
      "114\n"
     ]
    }
   ],
   "source": [
    "# Let's doublce check how many heroes we have.\n",
    "print(len(heroes_importance))"
   ]
  },
  {
   "cell_type": "markdown",
   "metadata": {},
   "source": [
    "### Let's convert the hero id to the hero's name. This could be done with heroes.json file, where the information of all heroes are stored."
   ]
  },
  {
   "cell_type": "code",
   "execution_count": 141,
   "metadata": {
    "collapsed": true
   },
   "outputs": [],
   "source": [
    "import json"
   ]
  },
  {
   "cell_type": "code",
   "execution_count": 144,
   "metadata": {},
   "outputs": [],
   "source": [
    "with open('misc_data/heroes.json') as heroes_json:\n",
    "    raw_data = json.load(heroes_json)\n",
    "    heroes = raw_data['heroes']"
   ]
  },
  {
   "cell_type": "code",
   "execution_count": 145,
   "metadata": {
    "collapsed": true
   },
   "outputs": [],
   "source": [
    "results = {}\n",
    "for hero in heroes:\n",
    "    _id = hero['id']\n",
    "    imp = heroes_importance[_id]\n",
    "    results[hero['localized_name']] = imp"
   ]
  },
  {
   "cell_type": "code",
   "execution_count": 146,
   "metadata": {
    "collapsed": true
   },
   "outputs": [],
   "source": [
    "results_list = [(val, key) for key, val in results.items()]\n",
    "results_list.sort(reverse=True)"
   ]
  },
  {
   "cell_type": "code",
   "execution_count": 147,
   "metadata": {},
   "outputs": [
    {
     "name": "stdout",
     "output_type": "stream",
     "text": [
      "Hero                Importance\n",
      "\n",
      "Legion Commander    0.020109889231494014\n",
      "Sniper              0.019514091337410184\n",
      "Slark               0.019185989136750962\n",
      "Juggernaut          0.018051020813582695\n",
      "Shadow Fiend        0.01802721672967949\n",
      "Bloodseeker         0.017061880680004318\n",
      "Anti-Mage           0.015479995434883136\n",
      "Mirana              0.014990166831142519\n",
      "Weaver              0.014775111117547132\n",
      "Drow Ranger         0.014398723847283221\n",
      "Lifestealer         0.014084149456104367\n",
      "Ember Spirit        0.01348913950604486\n",
      "Invoker             0.013357240910903682\n",
      "Slardar             0.013289711394733944\n",
      "Sven                0.013045777458624414\n",
      "Lion                0.012886869344178691\n",
      "Bounty Hunter       0.012691336284039767\n",
      "Storm Spirit        0.012154712766614523\n",
      "Troll Warlord       0.01213250269184795\n",
      "Ogre Magi           0.01202957623687573\n",
      "Nyx Assassin        0.012027113276930176\n",
      "Ursa                0.01195251355079175\n",
      "Timbersaw           0.01190012826297458\n",
      "Earthshaker         0.011815423272610936\n",
      "Sand King           0.011745956428454574\n",
      "Faceless Void       0.011728783567278824\n",
      "Rubick              0.011560908222839094\n",
      "Luna                0.011514304026081142\n",
      "Viper               0.011453605341131205\n",
      "Silencer            0.01139384393474858\n",
      "Tinker              0.011242604214336068\n",
      "Magnus              0.011230533909249099\n",
      "Bristleback         0.011212414887832837\n",
      "Spirit Breaker      0.011144149106831756\n",
      "Alchemist           0.010508410507184096\n",
      "Outworld Devourer   0.010428671976788392\n",
      "Vengeful Spirit     0.010134102499646021\n",
      "Phantom Assassin    0.010052580946197919\n",
      "Witch Doctor        0.009796365640697594\n",
      "Templar Assassin    0.009703604294186225\n",
      "Windranger          0.009582661013309346\n",
      "Phantom Lancer      0.009437996731530483\n",
      "Riki                0.00934907601892606\n",
      "Pudge               0.00917493137850514\n",
      "Axe                 0.008958205777483512\n",
      "Disruptor           0.008956525562759169\n",
      "Keeper of the Light 0.008938604916836242\n",
      "Skywrath Mage       0.008840865338704748\n",
      "Clinkz              0.00883003262479495\n",
      "Crystal Maiden      0.008821139255503211\n",
      "Chaos Knight        0.0087430044128599\n",
      "Techies             0.008619499155840791\n",
      "Zeus                0.008552818021008358\n",
      "Treant Protector    0.008468419995310141\n",
      "Dragon Knight       0.00843270590607627\n",
      "Medusa              0.008295845728011734\n",
      "Dazzle              0.008280889576859152\n",
      "Shadow Shaman       0.008229747197761277\n",
      "Morphling           0.008063256427598729\n",
      "Venomancer          0.008046933707177217\n",
      "Lich                0.008016192175025394\n",
      "Clockwerk           0.008007934720324645\n",
      "Tidehunter          0.007979686165696508\n",
      "Omniknight          0.007944820686876682\n",
      "Kunkka              0.007870274107345952\n",
      "Enigma              0.0078090659372575585\n",
      "Jakiro              0.007682330163578414\n",
      "Tiny                0.007431096131540331\n",
      "Warlock             0.007390806097523071\n",
      "Terrorblade         0.007374856618323758\n",
      "Necrophos           0.0073734665764072695\n",
      "Huskar              0.007299437299524815\n",
      "Lina                0.007234958088936526\n",
      "Skeleton King       0.007047404305065505\n",
      "Lone Druid          0.007022999872329775\n",
      "Night Stalker       0.0067291290412922035\n",
      "Undying             0.0065716917907383664\n",
      "Abyssal Underlord   0.006258908712423206\n",
      "Meepo               0.0062489007314365085\n",
      "Pugna               0.006088428247967407\n",
      "Ancient Apparition  0.006053939745507088\n",
      "Doom                0.006029287421323346\n",
      "Nature's Prophet    0.005751164812638791\n",
      "Abaddon             0.0057454696412077896\n",
      "Phoenix             0.005719023361892092\n",
      "Spectre             0.005694898701821945\n",
      "Tusk                0.00564869373863117\n",
      "Dark Seer           0.005592643091061886\n",
      "Razor               0.0053600283135929305\n",
      "Queen of Pain       0.00533655431730479\n",
      "Earth Spirit        0.005326244362518632\n",
      "Shadow Demon        0.0049936306931357855\n",
      "Winter Wyvern       0.004957036288473499\n",
      "Puck                0.004944614307417468\n",
      "Gyrocopter          0.004904358678601354\n",
      "Enchantress         0.004852558109786021\n",
      "Lycanthrope         0.004761458840732158\n",
      "Death Prophet       0.004514025068654174\n",
      "Centaur Warrunner   0.004490783068548833\n",
      "Batrider            0.004324715910645913\n",
      "Elder Titan         0.004278096366335625\n",
      "Bane                0.004248990604885894\n",
      "Naga Siren          0.004199902686426799\n",
      "Leshrac             0.003965670412280827\n",
      "Brewmaster          0.003668721368267125\n",
      "Oracle              0.0034451417112129406\n",
      "Beastmaster         0.0033766264476415286\n",
      "Broodmother         0.0031635531382143227\n",
      "Wisp                0.0028735113692605766\n",
      "Arc Warden          0.002842442471738827\n",
      "Visage              0.0026999749038472847\n",
      "Chen                0.0026108021427491256\n"
     ]
    }
   ],
   "source": [
    "print(\"{}Importance\\n\".format(\"Hero\".ljust(20)))\n",
    "for r1, r2 in results_list:\n",
    "    print(\"{}{}\".format(r2.ljust(20),r1))"
   ]
  },
  {
   "cell_type": "markdown",
   "metadata": {},
   "source": [
    "### It can be seen that most *carry* heroes are crucial to determine the result of the game, while most *support* heroes are not that important. This is consistent with my game experience."
   ]
  },
  {
   "cell_type": "markdown",
   "metadata": {},
   "source": [
    "#### Let's plot the Top 10 most important and most insignificant heroes."
   ]
  },
  {
   "cell_type": "code",
   "execution_count": 148,
   "metadata": {},
   "outputs": [
    {
     "name": "stdout",
     "output_type": "stream",
     "text": [
      "('Legion Commander', 'Sniper', 'Slark', 'Juggernaut', 'Shadow Fiend', 'Bloodseeker', 'Anti-Mage', 'Mirana', 'Weaver', 'Drow Ranger', 'Naga Siren', 'Leshrac', 'Brewmaster', 'Oracle', 'Beastmaster', 'Broodmother', 'Wisp', 'Arc Warden', 'Visage', 'Chen')\n",
      "(0.020109889231494014, 0.019514091337410184, 0.019185989136750962, 0.018051020813582695, 0.018027216729679489, 0.017061880680004318, 0.015479995434883136, 0.014990166831142519, 0.014775111117547132, 0.014398723847283221, 0.0041999026864267992, 0.0039656704122808268, 0.0036687213682671249, 0.0034451417112129406, 0.0033766264476415286, 0.0031635531382143227, 0.0028735113692605766, 0.002842442471738827, 0.0026999749038472847, 0.0026108021427491256)\n"
     ]
    }
   ],
   "source": [
    "importances, names = zip(*results_list[:10]+results_list[-10:])\n",
    "print(names)\n",
    "print(importances)"
   ]
  },
  {
   "cell_type": "code",
   "execution_count": 149,
   "metadata": {},
   "outputs": [
    {
     "data": {
      "text/plain": [
       "20"
      ]
     },
     "execution_count": 149,
     "metadata": {},
     "output_type": "execute_result"
    }
   ],
   "source": [
    "len(names)"
   ]
  },
  {
   "cell_type": "code",
   "execution_count": 150,
   "metadata": {},
   "outputs": [
    {
     "data": {
      "image/png": "[encoded data removed]",
      "text/plain": [
       "<matplotlib.figure.Figure at 0x2ac48339dcf8>"
      ]
     },
     "metadata": {},
     "output_type": "display_data"
    }
   ],
   "source": [
    "plt.bar(range(20), importances, width=0.8, align='center')\n",
    "plt.title(\"10 most important and most insignificant heroes\")\n",
    "plt.ylabel(\"Importance\")\n",
    "plt.xticks(range(20), names, rotation='vertical')\n",
    "plt.xlim([-1,20])\n",
    "plt.show()"
   ]
  },
  {
   "cell_type": "markdown",
   "metadata": {},
   "source": [
    "### Note that the most important doesn't mean the highest win rate. Still, we can see that there is a considerable difference between *carry* and *support* heroes regarding the importance."
   ]
  },
  {
   "cell_type": "markdown",
   "metadata": {},
   "source": [
    "## <span style=\"color:coral;\">Hero Recommendation System and Clustering</span>"
   ]
  },
  {
   "cell_type": "markdown",
   "metadata": {},
   "source": [
    "### Hero Recommendation System was built separately using Spark on Hortonworks. Other than that, we can cluster heroes based on their similarities."
   ]
  },
  {
   "cell_type": "code",
   "execution_count": null,
   "metadata": {
    "collapsed": true
   },
   "outputs": [],
   "source": []
  },
  {
   "cell_type": "markdown",
   "metadata": {},
   "source": [
    "## <span style=\"color:coral;\">Other Analysis</span>"
   ]
  },
  {
   "cell_type": "markdown",
   "metadata": {},
   "source": [
    "### We can plot the postion of wards placed at different time in a game. I did it in Tableau and uploaded to S3."
   ]
  },
  {
   "cell_type": "markdown",
   "metadata": {},
   "source": [
    "<img src=\"https://s3.us-east-2.amazonaws.com/dotaoracle-public/obs_map.png\">"
   ]
  },
  {
   "cell_type": "markdown",
   "metadata": {},
   "source": [
    "### It can be seen that at early games, most observer wards are placed near the *river* (from top-left to bottom-right). But wards placed at later time will be mostly around the buildings or neutral camps."
   ]
  },
  {
   "cell_type": "code",
   "execution_count": null,
   "metadata": {
    "collapsed": true
   },
   "outputs": [],
   "source": []
  }
 ],
 "metadata": {
  "kernelspec": {
   "display_name": "Python 3 (Anaconda)",
   "language": "python",
   "name": "anaconda_py3"
  },
  "language_info": {
   "codemirror_mode": {
    "name": "ipython",
    "version": 3
   },
   "file_extension": ".py",
   "mimetype": "text/x-python",
   "name": "python",
   "nbconvert_exporter": "python",
   "pygments_lexer": "ipython3",
   "version": "3.5.2"
  }
 },
 "nbformat": 4,
 "nbformat_minor": 2
}
